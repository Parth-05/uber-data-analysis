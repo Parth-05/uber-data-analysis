{
 "cells": [
  {
   "cell_type": "code",
   "execution_count": 1,
   "id": "273c0559-a16b-4800-8e2e-88a62f30cf5d",
   "metadata": {},
   "outputs": [],
   "source": [
    "# Importing necessary libraries\n",
    "from pyspark.sql import SparkSession\n",
    "from pyspark.sql.functions import col, sum, when, date_format, monotonically_increasing_id, to_timestamp\n",
    "\n",
    "import pandas as pd"
   ]
  },
  {
   "cell_type": "code",
   "execution_count": 2,
   "id": "1d6c069a-09e8-4586-a85b-a996eac8d821",
   "metadata": {},
   "outputs": [],
   "source": [
    "# Creating spark session\n",
    "spark = SparkSession.builder.appName(\"uber-data-analysis-4months\").config(\"spark.driver.memory\", \"4g\") .config(\"spark.executor.memory\", \"4g\").getOrCreate()\n",
    "# jdbc_driver_path = \"E:\\Mysql Connector\\mysql-connector-j-8.4.0\\mysql-connector-j-8.4.0\"\n",
    "# spark = SparkSession.builder.appName(\"uber-data-anlysis\").config(\"spark.jars\", jdbc_driver_path).getOrCreate()"
   ]
  },
  {
   "cell_type": "code",
   "execution_count": 3,
   "id": "3cdae968-fcbd-4293-8da6-6333e96a9455",
   "metadata": {},
   "outputs": [
    {
     "name": "stdout",
     "output_type": "stream",
     "text": [
      "+--------+--------------------+---------------------+---------------+-------------+----------+------------------+------------+------------+------------+-----------+-----+-------+----------+------------+---------------------+------------+--------------------+-----------+\n",
      "|VendorID|tpep_pickup_datetime|tpep_dropoff_datetime|passenger_count|trip_distance|RatecodeID|store_and_fwd_flag|PULocationID|DOLocationID|payment_type|fare_amount|extra|mta_tax|tip_amount|tolls_amount|improvement_surcharge|total_amount|congestion_surcharge|Airport_fee|\n",
      "+--------+--------------------+---------------------+---------------+-------------+----------+------------------+------------+------------+------------+-----------+-----+-------+----------+------------+---------------------+------------+--------------------+-----------+\n",
      "|       1| 2023-11-01 00:03:03|  2023-11-01 01:04:08|              2|         13.6|         1|                 N|         132|          26|           2|       61.8| 2.75|    0.5|       0.0|         0.0|                  1.0|       66.05|                 0.0|       1.75|\n",
      "|       1| 2023-11-01 00:03:28|  2023-11-01 00:23:59|              0|          3.5|         1|                 N|         140|           7|           1|       20.5|  3.5|    0.5|       5.1|         0.0|                  1.0|        30.6|                 2.5|        0.0|\n",
      "|       2| 2023-10-31 23:58:05|  2023-11-01 00:54:03|              4|        18.61|         2|                 N|         132|         230|           1|       70.0|  0.0|    0.5|     16.54|        6.94|                  1.0|       99.23|                 2.5|       1.75|\n",
      "|       2| 2023-11-01 00:03:50|  2023-11-01 00:04:59|              1|         0.39|         1|                 N|         236|         236|           1|        4.4|  1.0|    0.5|      1.88|         0.0|                  1.0|       11.28|                 2.5|        0.0|\n",
      "|       2| 2023-11-01 00:06:30|  2023-11-01 00:14:25|              1|          1.2|         1|                 N|         236|         141|           1|       10.0|  1.0|    0.5|       3.0|         0.0|                  1.0|        18.0|                 2.5|        0.0|\n",
      "|       2| 2023-11-01 00:17:18|  2023-11-01 00:23:39|              3|          0.6|         1|                 N|         141|         263|           1|        7.9|  1.0|    0.5|      2.58|         0.0|                  1.0|       15.48|                 2.5|        0.0|\n",
      "|       2| 2023-11-01 00:14:49|  2023-11-01 00:39:44|              1|         5.44|         1|                 N|         114|          62|           2|       28.2|  1.0|    0.5|       0.0|         0.0|                  1.0|        33.2|                 2.5|        0.0|\n",
      "|       1| 2023-11-01 00:07:29|  2023-11-01 00:11:01|              2|          0.9|         1|                 N|          48|         246|           1|        6.5|  3.5|    0.5|       2.3|         0.0|                  1.0|        13.8|                 2.5|        0.0|\n",
      "|       2| 2023-11-01 00:39:20|  2023-11-01 01:00:24|              1|          6.2|         1|                 N|         170|          42|           1|       27.5|  1.0|    0.5|      8.12|         0.0|                  1.0|       40.62|                 2.5|        0.0|\n",
      "|       1| 2023-11-01 00:21:12|  2023-11-01 00:26:45|              2|          0.4|         1|                 N|         144|         148|           2|        5.8|  3.5|    0.5|       0.0|         0.0|                  1.0|        10.8|                 2.5|        0.0|\n",
      "|       2| 2023-11-01 00:05:14|  2023-11-01 00:13:28|              1|         1.14|         1|                 N|          90|         164|           1|        9.3|  1.0|    0.5|       1.0|         0.0|                  1.0|        15.3|                 2.5|        0.0|\n",
      "|       1| 2023-11-01 00:47:33|  2023-11-01 01:03:41|              4|          1.9|         1|                 N|         249|         231|           1|       14.9|  3.5|    0.5|      0.01|         0.0|                  1.0|       19.91|                 2.5|        0.0|\n",
      "|       2| 2023-11-01 00:21:14|  2023-11-01 00:49:52|              1|         6.88|         1|                 N|         230|          25|           1|       33.1|  1.0|    0.5|      5.72|         0.0|                  1.0|       43.82|                 2.5|        0.0|\n",
      "|       1| 2023-11-01 00:11:22|  2023-11-01 00:18:02|              1|          0.8|         1|                 N|          79|         224|           3|        7.2|  3.5|    0.5|       0.0|         0.0|                  1.0|        12.2|                 2.5|        0.0|\n",
      "|       1| 2023-11-01 00:27:33|  2023-11-01 00:49:51|              1|          2.9|         1|                 N|         144|         255|           1|       22.6|  3.5|    0.5|       3.0|         0.0|                  1.0|        30.6|                 2.5|        0.0|\n",
      "|       2| 2023-11-01 00:07:30|  2023-11-01 00:20:20|              2|         1.93|         1|                 N|         234|          48|           1|       13.5|  1.0|    0.5|       3.7|         0.0|                  1.0|        22.2|                 2.5|        0.0|\n",
      "|       2| 2023-11-01 00:58:08|  2023-11-01 01:12:32|              1|         2.39|         1|                 N|         141|         143|           2|       16.3|  1.0|    0.5|       0.0|         0.0|                  1.0|        21.3|                 2.5|        0.0|\n",
      "|       1| 2023-11-01 00:06:23|  2023-11-01 00:17:59|              2|          1.8|         1|                 N|         107|         231|           1|       12.8|  3.5|    0.5|      3.55|         0.0|                  1.0|       21.35|                 2.5|        0.0|\n",
      "|       2| 2023-11-01 00:11:23|  2023-11-01 00:18:49|              1|         1.77|         1|                 N|         142|         229|           1|       10.7|  1.0|    0.5|      4.71|         0.0|                  1.0|       20.41|                 2.5|        0.0|\n",
      "|       2| 2023-11-01 00:51:27|  2023-11-01 00:56:14|              1|          1.0|         1|                 N|         230|         163|           1|        7.2|  1.0|    0.5|      1.22|         0.0|                  1.0|       13.42|                 2.5|        0.0|\n",
      "+--------+--------------------+---------------------+---------------+-------------+----------+------------------+------------+------------+------------+-----------+-----+-------+----------+------------+---------------------+------------+--------------------+-----------+\n",
      "only showing top 20 rows\n",
      "\n"
     ]
    }
   ],
   "source": [
    "# Specify the directory containing the Parquet files\n",
    "data_directory = \"../Data/\"\n",
    "# Load all Parquet files matching the pattern into a single DataFrame\n",
    "df = spark.read.parquet(data_directory + \"yellow_tripdata_202*.parquet\")\n",
    "\n",
    "# Show the DataFrame\n",
    "df.show()"
   ]
  },
  {
   "cell_type": "code",
   "execution_count": 4,
   "id": "5fa30e2a-3fbb-432d-b8b7-1a14f970ca0e",
   "metadata": {},
   "outputs": [
    {
     "name": "stdout",
     "output_type": "stream",
     "text": [
      "No. of rows:  12688432\n",
      "No. of columns:  19\n"
     ]
    }
   ],
   "source": [
    "print('No. of rows: ', df.count())\n",
    "print('No. of columns: ', len(df.columns))"
   ]
  },
  {
   "cell_type": "code",
   "execution_count": 5,
   "id": "03116183-1565-44ec-ad8c-844c549749d2",
   "metadata": {},
   "outputs": [
    {
     "name": "stdout",
     "output_type": "stream",
     "text": [
      "root\n",
      " |-- VendorID: integer (nullable = true)\n",
      " |-- tpep_pickup_datetime: timestamp_ntz (nullable = true)\n",
      " |-- tpep_dropoff_datetime: timestamp_ntz (nullable = true)\n",
      " |-- passenger_count: long (nullable = true)\n",
      " |-- trip_distance: double (nullable = true)\n",
      " |-- RatecodeID: long (nullable = true)\n",
      " |-- store_and_fwd_flag: string (nullable = true)\n",
      " |-- PULocationID: integer (nullable = true)\n",
      " |-- DOLocationID: integer (nullable = true)\n",
      " |-- payment_type: long (nullable = true)\n",
      " |-- fare_amount: double (nullable = true)\n",
      " |-- extra: double (nullable = true)\n",
      " |-- mta_tax: double (nullable = true)\n",
      " |-- tip_amount: double (nullable = true)\n",
      " |-- tolls_amount: double (nullable = true)\n",
      " |-- improvement_surcharge: double (nullable = true)\n",
      " |-- total_amount: double (nullable = true)\n",
      " |-- congestion_surcharge: double (nullable = true)\n",
      " |-- Airport_fee: double (nullable = true)\n",
      "\n"
     ]
    }
   ],
   "source": [
    "# print the schema of the data\n",
    "df.printSchema()"
   ]
  },
  {
   "cell_type": "markdown",
   "id": "b53a2908-7f9c-435e-af60-74640c10a63a",
   "metadata": {},
   "source": [
    "# Transformation Phase"
   ]
  },
  {
   "cell_type": "markdown",
   "id": "45e92474-b989-482f-9cd4-7c463289e9c0",
   "metadata": {},
   "source": [
    "### Data Cleaning"
   ]
  },
  {
   "cell_type": "code",
   "execution_count": 6,
   "id": "2c87757f-c9ec-4320-8fe1-56bf5acbd3c4",
   "metadata": {},
   "outputs": [
    {
     "name": "stdout",
     "output_type": "stream",
     "text": [
      "+--------+--------------------+---------------------+---------------+-------------+----------+------------------+------------+------------+------------+-----------+-----+-------+----------+------------+---------------------+------------+--------------------+-----------+\n",
      "|VendorID|tpep_pickup_datetime|tpep_dropoff_datetime|passenger_count|trip_distance|RatecodeID|store_and_fwd_flag|PULocationID|DOLocationID|payment_type|fare_amount|extra|mta_tax|tip_amount|tolls_amount|improvement_surcharge|total_amount|congestion_surcharge|Airport_fee|\n",
      "+--------+--------------------+---------------------+---------------+-------------+----------+------------------+------------+------------+------------+-----------+-----+-------+----------+------------+---------------------+------------+--------------------+-----------+\n",
      "|       0|                   0|                    0|         638450|            0|    638450|            638450|           0|           0|           0|          0|    0|      0|         0|           0|                    0|           0|              638450|     638450|\n",
      "+--------+--------------------+---------------------+---------------+-------------+----------+------------------+------------+------------+------------+-----------+-----+-------+----------+------------+---------------------+------------+--------------------+-----------+\n",
      "\n"
     ]
    }
   ],
   "source": [
    "# Checking for missing values in the data\n",
    "missing_values = df.select([sum(col(c).isNull().cast(\"int\")).alias(c) for c in df.columns]) # This expression checks if each value in the column c is null. If it is, it casts the result to an integer (1 for null, 0 for not null).\n",
    "missing_values.show()"
   ]
  },
  {
   "cell_type": "markdown",
   "id": "5e8bf2e9-3f59-4701-a3e0-4e976c8b21b7",
   "metadata": {},
   "source": [
    "**Observation**\n",
    "\n",
    "It can be seen that the columns passenger_count, RatecodeID, store_and_fwd_flag, congestion_surcharge and Airport_fee contain missing values"
   ]
  },
  {
   "cell_type": "code",
   "execution_count": 7,
   "id": "a4598c61-bb2c-47f9-ade8-8d1fab842655",
   "metadata": {},
   "outputs": [
    {
     "name": "stdout",
     "output_type": "stream",
     "text": [
      "+--------+--------------------+---------------------+-----------------+-------------+-----------------+------------------+------------+------------+------------+-----------+-----+-------+----------+------------+---------------------+------------+--------------------+-----------------+\n",
      "|VendorID|tpep_pickup_datetime|tpep_dropoff_datetime|  passenger_count|trip_distance|       RatecodeID|store_and_fwd_flag|PULocationID|DOLocationID|payment_type|fare_amount|extra|mta_tax|tip_amount|tolls_amount|improvement_surcharge|total_amount|congestion_surcharge|      Airport_fee|\n",
      "+--------+--------------------+---------------------+-----------------+-------------+-----------------+------------------+------------+------------+------------+-----------+-----+-------+----------+------------+---------------------+------------+--------------------+-----------------+\n",
      "|     0.0|                 0.0|                  0.0|5.031748603767589|          0.0|5.031748603767589| 5.031748603767589|         0.0|         0.0|         0.0|        0.0|  0.0|    0.0|       0.0|         0.0|                  0.0|         0.0|   5.031748603767589|5.031748603767589|\n",
      "+--------+--------------------+---------------------+-----------------+-------------+-----------------+------------------+------------+------------+------------+-----------+-----+-------+----------+------------+---------------------+------------+--------------------+-----------------+\n",
      "\n"
     ]
    }
   ],
   "source": [
    "# Calculating percentage of missing values\n",
    "total_rows = df.count()\n",
    "missing_values_percent = missing_values.select([(col(c) / total_rows * 100).alias(c) for c in df.columns])\n",
    "missing_values_percent.show()"
   ]
  },
  {
   "cell_type": "code",
   "execution_count": 8,
   "id": "7af8bc75-81ce-47cd-92d7-91d5676bcfd3",
   "metadata": {},
   "outputs": [
    {
     "name": "stdout",
     "output_type": "stream",
     "text": [
      "+--------+--------------------+---------------------+---------------+-------------+----------+------------------+------------+------------+------------+-----------+-----+-------+----------+------------+---------------------+------------+--------------------+-----------+\n",
      "|VendorID|tpep_pickup_datetime|tpep_dropoff_datetime|passenger_count|trip_distance|RatecodeID|store_and_fwd_flag|PULocationID|DOLocationID|payment_type|fare_amount|extra|mta_tax|tip_amount|tolls_amount|improvement_surcharge|total_amount|congestion_surcharge|Airport_fee|\n",
      "+--------+--------------------+---------------------+---------------+-------------+----------+------------------+------------+------------+------------+-----------+-----+-------+----------+------------+---------------------+------------+--------------------+-----------+\n",
      "|       2| 2023-12-01 00:04:36|  2023-12-01 00:32:12|           NULL|         4.98|      NULL|              NULL|         144|         143|           0|       28.2|  0.0|    0.5|       0.0|         0.0|                  1.0|        32.2|                NULL|       NULL|\n",
      "|       2| 2023-12-01 00:38:00|  2023-12-01 00:44:00|           NULL|         1.39|      NULL|              NULL|         246|          68|           0|      11.88|  0.0|    0.5|       2.0|         0.0|                  1.0|       17.88|                NULL|       NULL|\n",
      "|       1| 2023-12-01 00:00:03|  2023-12-01 00:15:11|           NULL|          0.0|      NULL|              NULL|         249|         148|           0|      16.51|  0.0|    0.5|       0.0|         0.0|                  1.0|       20.51|                NULL|       NULL|\n",
      "|       2| 2023-12-01 00:06:55|  2023-12-01 00:24:55|           NULL|         4.54|      NULL|              NULL|          68|          88|           0|       1.24|  0.0|    0.5|       0.0|         0.0|                  1.0|        5.24|                NULL|       NULL|\n",
      "|       2| 2023-12-01 00:00:47|  2023-12-01 00:08:34|           NULL|         0.96|      NULL|              NULL|         129|         129|           0|       9.31|  0.0|    0.5|       0.0|         0.0|                  1.0|       10.81|                NULL|       NULL|\n",
      "|       2| 2023-12-01 00:55:38|  2023-12-01 01:07:17|           NULL|         1.67|      NULL|              NULL|         246|         107|           0|      11.88|  0.0|    0.5|       1.0|         0.0|                  1.0|       16.88|                NULL|       NULL|\n",
      "|       1| 2023-12-01 00:34:16|  2023-12-01 00:41:33|           NULL|          1.1|      NULL|              NULL|         237|         229|           0|        8.6|  1.0|    0.5|      1.36|         0.0|                  1.0|       14.96|                NULL|       NULL|\n",
      "|       2| 2023-12-01 00:01:54|  2023-12-01 00:08:46|           NULL|         1.14|      NULL|              NULL|          79|           4|           0|       9.33|  0.0|    0.5|       0.0|         0.0|                  1.0|       13.33|                NULL|       NULL|\n",
      "|       2| 2023-12-01 00:14:13|  2023-12-01 00:23:35|           NULL|         2.86|      NULL|              NULL|           4|          87|           0|      16.74|  0.0|    0.5|      4.15|         0.0|                  1.0|       24.89|                NULL|       NULL|\n",
      "|       1| 2023-12-01 00:04:09|  2023-12-01 00:24:38|           NULL|          0.0|      NULL|              NULL|         234|          75|           0|      23.55|  0.0|    0.5|       0.0|         0.0|                  1.0|       27.55|                NULL|       NULL|\n",
      "|       2| 2023-12-01 00:48:00|  2023-12-01 01:05:39|           NULL|          5.1|      NULL|              NULL|         166|         186|           0|      22.94|  0.0|    0.5|      1.35|         0.0|                  1.0|       28.29|                NULL|       NULL|\n",
      "|       2| 2023-12-01 00:00:28|  2023-12-01 00:13:04|           NULL|         1.69|      NULL|              NULL|         230|         239|           0|      14.44|  0.0|    0.5|       0.0|         0.0|                  1.0|       18.44|                NULL|       NULL|\n",
      "|       1| 2023-12-01 00:01:33|  2023-12-01 00:30:03|           NULL|          0.0|      NULL|              NULL|         113|         151|           0|      30.73|  0.0|    0.5|       0.0|         0.0|                  1.0|       34.73|                NULL|       NULL|\n",
      "|       1| 2023-12-01 00:09:32|  2023-12-01 00:17:57|           NULL|          1.6|      NULL|              NULL|          48|          68|           0|       10.0|  1.0|    0.5|       1.5|         0.0|                  1.0|        16.5|                NULL|       NULL|\n",
      "|       2| 2023-12-01 00:13:56|  2023-12-01 00:41:36|           NULL|         4.74|      NULL|              NULL|         113|          17|           0|      25.49|  0.0|    0.5|       5.0|         0.0|                  1.0|       34.49|                NULL|       NULL|\n",
      "|       2| 2023-12-01 00:10:25|  2023-12-01 00:23:43|           NULL|         2.52|      NULL|              NULL|          68|          79|           0|      14.63|  0.0|    0.5|      1.86|         0.0|                  1.0|       20.49|                NULL|       NULL|\n",
      "|       2| 2023-12-01 00:05:00|  2023-12-01 00:10:00|           NULL|         1.17|      NULL|              NULL|         246|         249|           0|      11.88|  0.0|    0.5|      2.86|         0.0|                  1.0|       18.74|                NULL|       NULL|\n",
      "|       2| 2023-12-01 00:01:49|  2023-12-01 00:10:48|           NULL|         1.26|      NULL|              NULL|          79|         148|           0|       9.57|  0.0|    0.5|       0.0|         0.0|                  1.0|       13.57|                NULL|       NULL|\n",
      "|       2| 2023-12-01 00:06:17|  2023-12-01 00:23:20|           NULL|          3.4|      NULL|              NULL|         158|         162|           0|      12.84|  0.0|    0.5|      3.37|         0.0|                  1.0|       20.21|                NULL|       NULL|\n",
      "|       2| 2023-12-01 00:01:52|  2023-12-01 00:15:14|           NULL|          3.1|      NULL|              NULL|         142|         236|           0|      15.66|  0.0|    0.5|       0.0|         0.0|                  1.0|       19.66|                NULL|       NULL|\n",
      "+--------+--------------------+---------------------+---------------+-------------+----------+------------------+------------+------------+------------+-----------+-----+-------+----------+------------+---------------------+------------+--------------------+-----------+\n",
      "only showing top 20 rows\n",
      "\n"
     ]
    }
   ],
   "source": [
    "# Select columns of interest\n",
    "missing_value_columns = df.filter(\n",
    "    (col('Passenger_count').isNull()) |\n",
    "    (col('RateCodeID').isNull()) | \n",
    "    (col('store_and_fwd_flag').isNull()) |\n",
    "    (col('congestion_surcharge').isNull()) |\n",
    "    (col('Airport_fee').isNull())\n",
    ")\n",
    "\n",
    "# show rows with missing values\n",
    "missing_value_columns.show()"
   ]
  },
  {
   "cell_type": "code",
   "execution_count": 9,
   "id": "2c9c1e4f-f34a-4075-8916-004f9dd70439",
   "metadata": {},
   "outputs": [
    {
     "name": "stdout",
     "output_type": "stream",
     "text": [
      "Unique values in passenger_count: \n",
      "+---------------+\n",
      "|passenger_count|\n",
      "+---------------+\n",
      "|              0|\n",
      "|              7|\n",
      "|              6|\n",
      "|              5|\n",
      "|              1|\n",
      "|              3|\n",
      "|              8|\n",
      "|              2|\n",
      "|              4|\n",
      "|              9|\n",
      "|           NULL|\n",
      "+---------------+\n",
      "\n",
      "Unique values in RatecodeID: \n",
      "+----------+\n",
      "|RatecodeID|\n",
      "+----------+\n",
      "|         6|\n",
      "|         5|\n",
      "|         1|\n",
      "|         3|\n",
      "|         2|\n",
      "|         4|\n",
      "|        99|\n",
      "|      NULL|\n",
      "+----------+\n",
      "\n",
      "Unique values in store_and_fwd_flag: \n",
      "+------------------+\n",
      "|store_and_fwd_flag|\n",
      "+------------------+\n",
      "|                 Y|\n",
      "|                 N|\n",
      "|              NULL|\n",
      "+------------------+\n",
      "\n",
      "Unique values in congestion_surcharge: \n",
      "+--------------------+\n",
      "|congestion_surcharge|\n",
      "+--------------------+\n",
      "|                 0.0|\n",
      "|                 2.5|\n",
      "|                -2.5|\n",
      "|                 0.5|\n",
      "|                0.75|\n",
      "|                 1.0|\n",
      "|                NULL|\n",
      "|               -0.75|\n",
      "+--------------------+\n",
      "\n",
      "Unique values in Airport_fee: \n",
      "+-----------+\n",
      "|Airport_fee|\n",
      "+-----------+\n",
      "|        0.0|\n",
      "|      -1.75|\n",
      "|       1.75|\n",
      "|       1.25|\n",
      "|       NULL|\n",
      "+-----------+\n",
      "\n"
     ]
    }
   ],
   "source": [
    "unique_passenger_count = df.select('passenger_count').distinct()\n",
    "print('Unique values in passenger_count: ')\n",
    "unique_passenger_count.show()\n",
    "\n",
    "unique_RatecodeID= df.select('RatecodeID').distinct()\n",
    "print('Unique values in RatecodeID: ')\n",
    "unique_RatecodeID.show()\n",
    "\n",
    "unique_store_and_fwd_flag = df.select('store_and_fwd_flag').distinct()\n",
    "print('Unique values in store_and_fwd_flag: ')\n",
    "unique_store_and_fwd_flag.show()\n",
    "\n",
    "unique_congestion_surcharge= df.select('congestion_surcharge').distinct()\n",
    "print('Unique values in congestion_surcharge: ')\n",
    "unique_congestion_surcharge.show()\n",
    "\n",
    "unique_Airport_fee = df.select('Airport_fee').distinct()\n",
    "print('Unique values in Airport_fee: ')\n",
    "unique_Airport_fee.show()"
   ]
  },
  {
   "cell_type": "markdown",
   "id": "0d64d6b1-a5e7-48b5-878c-24e931ad895b",
   "metadata": {},
   "source": [
    "For passenger count there we can drop the records where the values are nan.\n",
    "\n",
    "For RateCodeID we only need to used valid rate code id's i.e from 1 to 6.\n",
    "\n",
    "For none store and forward we will assume it to be N\n",
    "\n",
    "For nan congestion surcharge we will assume it to be 0.\n",
    "\n",
    "For nan airport fee we will assume it to be 0."
   ]
  },
  {
   "cell_type": "code",
   "execution_count": 10,
   "id": "14d5bfbe-b53d-4a74-b176-849c971ede97",
   "metadata": {},
   "outputs": [
    {
     "name": "stdout",
     "output_type": "stream",
     "text": [
      "+--------+--------------------+---------------------+---------------+-------------+----------+------------------+------------+------------+------------+-----------+-----+-------+----------+------------+---------------------+------------+--------------------+-----------+\n",
      "|VendorID|tpep_pickup_datetime|tpep_dropoff_datetime|passenger_count|trip_distance|RatecodeID|store_and_fwd_flag|PULocationID|DOLocationID|payment_type|fare_amount|extra|mta_tax|tip_amount|tolls_amount|improvement_surcharge|total_amount|congestion_surcharge|Airport_fee|\n",
      "+--------+--------------------+---------------------+---------------+-------------+----------+------------------+------------+------------+------------+-----------+-----+-------+----------+------------+---------------------+------------+--------------------+-----------+\n",
      "|       1| 2023-11-01 00:03:03|  2023-11-01 01:04:08|              2|         13.6|         1|                 N|         132|          26|           2|       61.8| 2.75|    0.5|       0.0|         0.0|                  1.0|       66.05|                 0.0|       1.75|\n",
      "|       1| 2023-11-01 00:03:28|  2023-11-01 00:23:59|              0|          3.5|         1|                 N|         140|           7|           1|       20.5|  3.5|    0.5|       5.1|         0.0|                  1.0|        30.6|                 2.5|        0.0|\n",
      "|       2| 2023-10-31 23:58:05|  2023-11-01 00:54:03|              4|        18.61|         2|                 N|         132|         230|           1|       70.0|  0.0|    0.5|     16.54|        6.94|                  1.0|       99.23|                 2.5|       1.75|\n",
      "|       2| 2023-11-01 00:03:50|  2023-11-01 00:04:59|              1|         0.39|         1|                 N|         236|         236|           1|        4.4|  1.0|    0.5|      1.88|         0.0|                  1.0|       11.28|                 2.5|        0.0|\n",
      "|       2| 2023-11-01 00:06:30|  2023-11-01 00:14:25|              1|          1.2|         1|                 N|         236|         141|           1|       10.0|  1.0|    0.5|       3.0|         0.0|                  1.0|        18.0|                 2.5|        0.0|\n",
      "|       2| 2023-11-01 00:17:18|  2023-11-01 00:23:39|              3|          0.6|         1|                 N|         141|         263|           1|        7.9|  1.0|    0.5|      2.58|         0.0|                  1.0|       15.48|                 2.5|        0.0|\n",
      "|       2| 2023-11-01 00:14:49|  2023-11-01 00:39:44|              1|         5.44|         1|                 N|         114|          62|           2|       28.2|  1.0|    0.5|       0.0|         0.0|                  1.0|        33.2|                 2.5|        0.0|\n",
      "|       1| 2023-11-01 00:07:29|  2023-11-01 00:11:01|              2|          0.9|         1|                 N|          48|         246|           1|        6.5|  3.5|    0.5|       2.3|         0.0|                  1.0|        13.8|                 2.5|        0.0|\n",
      "|       2| 2023-11-01 00:39:20|  2023-11-01 01:00:24|              1|          6.2|         1|                 N|         170|          42|           1|       27.5|  1.0|    0.5|      8.12|         0.0|                  1.0|       40.62|                 2.5|        0.0|\n",
      "|       1| 2023-11-01 00:21:12|  2023-11-01 00:26:45|              2|          0.4|         1|                 N|         144|         148|           2|        5.8|  3.5|    0.5|       0.0|         0.0|                  1.0|        10.8|                 2.5|        0.0|\n",
      "|       2| 2023-11-01 00:05:14|  2023-11-01 00:13:28|              1|         1.14|         1|                 N|          90|         164|           1|        9.3|  1.0|    0.5|       1.0|         0.0|                  1.0|        15.3|                 2.5|        0.0|\n",
      "|       1| 2023-11-01 00:47:33|  2023-11-01 01:03:41|              4|          1.9|         1|                 N|         249|         231|           1|       14.9|  3.5|    0.5|      0.01|         0.0|                  1.0|       19.91|                 2.5|        0.0|\n",
      "|       2| 2023-11-01 00:21:14|  2023-11-01 00:49:52|              1|         6.88|         1|                 N|         230|          25|           1|       33.1|  1.0|    0.5|      5.72|         0.0|                  1.0|       43.82|                 2.5|        0.0|\n",
      "|       1| 2023-11-01 00:11:22|  2023-11-01 00:18:02|              1|          0.8|         1|                 N|          79|         224|           3|        7.2|  3.5|    0.5|       0.0|         0.0|                  1.0|        12.2|                 2.5|        0.0|\n",
      "|       1| 2023-11-01 00:27:33|  2023-11-01 00:49:51|              1|          2.9|         1|                 N|         144|         255|           1|       22.6|  3.5|    0.5|       3.0|         0.0|                  1.0|        30.6|                 2.5|        0.0|\n",
      "|       2| 2023-11-01 00:07:30|  2023-11-01 00:20:20|              2|         1.93|         1|                 N|         234|          48|           1|       13.5|  1.0|    0.5|       3.7|         0.0|                  1.0|        22.2|                 2.5|        0.0|\n",
      "|       2| 2023-11-01 00:58:08|  2023-11-01 01:12:32|              1|         2.39|         1|                 N|         141|         143|           2|       16.3|  1.0|    0.5|       0.0|         0.0|                  1.0|        21.3|                 2.5|        0.0|\n",
      "|       1| 2023-11-01 00:06:23|  2023-11-01 00:17:59|              2|          1.8|         1|                 N|         107|         231|           1|       12.8|  3.5|    0.5|      3.55|         0.0|                  1.0|       21.35|                 2.5|        0.0|\n",
      "|       2| 2023-11-01 00:11:23|  2023-11-01 00:18:49|              1|         1.77|         1|                 N|         142|         229|           1|       10.7|  1.0|    0.5|      4.71|         0.0|                  1.0|       20.41|                 2.5|        0.0|\n",
      "|       2| 2023-11-01 00:51:27|  2023-11-01 00:56:14|              1|          1.0|         1|                 N|         230|         163|           1|        7.2|  1.0|    0.5|      1.22|         0.0|                  1.0|       13.42|                 2.5|        0.0|\n",
      "+--------+--------------------+---------------------+---------------+-------------+----------+------------------+------------+------------+------------+-----------+-----+-------+----------+------------+---------------------+------------+--------------------+-----------+\n",
      "only showing top 20 rows\n",
      "\n"
     ]
    }
   ],
   "source": [
    "# Drop records where passenger_count is NaN\n",
    "df = df.filter(col('passenger_count').isNotNull())\n",
    "\n",
    "# Filter records where RateCodeID is between 1 and 6\n",
    "df = df.filter((col('RateCodeID') >= 1) & (col('RateCodeID') <= 6))\n",
    "\n",
    "# Replace None values in store_and_fwd_flag with 'N'\n",
    "df = df.withColumn('store_and_fwd_flag', when(col('store_and_fwd_flag').isNull(), 'N').otherwise(col('store_and_fwd_flag')))\n",
    "\n",
    "# Replace NaN values in congestion_surcharge with 0\n",
    "df = df.fillna({'congestion_surcharge': 0})\n",
    "\n",
    "# Replace NaN values in Airport_fee with 0\n",
    "df = df.fillna({'Airport_fee': 0})\n",
    "\n",
    "# Show the cleaned data\n",
    "df.show()"
   ]
  },
  {
   "cell_type": "code",
   "execution_count": 11,
   "id": "a6eda90f",
   "metadata": {},
   "outputs": [
    {
     "name": "stdout",
     "output_type": "stream",
     "text": [
      "Unique values in passenger_count: \n",
      "+---------------+\n",
      "|passenger_count|\n",
      "+---------------+\n",
      "|              0|\n",
      "|              7|\n",
      "|              6|\n",
      "|              5|\n",
      "|              1|\n",
      "|              3|\n",
      "|              8|\n",
      "|              2|\n",
      "|              4|\n",
      "|              9|\n",
      "+---------------+\n",
      "\n",
      "Unique values in RatecodeID: \n",
      "+----------+\n",
      "|RatecodeID|\n",
      "+----------+\n",
      "|         6|\n",
      "|         5|\n",
      "|         1|\n",
      "|         3|\n",
      "|         2|\n",
      "|         4|\n",
      "+----------+\n",
      "\n",
      "Unique values in store_and_fwd_flag: \n",
      "+------------------+\n",
      "|store_and_fwd_flag|\n",
      "+------------------+\n",
      "|                 Y|\n",
      "|                 N|\n",
      "+------------------+\n",
      "\n",
      "Unique values in congestion_surcharge: \n",
      "+--------------------+\n",
      "|congestion_surcharge|\n",
      "+--------------------+\n",
      "|                 0.0|\n",
      "|                 2.5|\n",
      "|                -2.5|\n",
      "|                 0.5|\n",
      "|                0.75|\n",
      "|                 1.0|\n",
      "|               -0.75|\n",
      "+--------------------+\n",
      "\n",
      "Unique values in Airport_fee: \n",
      "+-----------+\n",
      "|Airport_fee|\n",
      "+-----------+\n",
      "|        0.0|\n",
      "|      -1.75|\n",
      "|       1.75|\n",
      "+-----------+\n",
      "\n"
     ]
    }
   ],
   "source": [
    "unique_passenger_count = df.select('passenger_count').distinct()\n",
    "print('Unique values in passenger_count: ')\n",
    "unique_passenger_count.show()\n",
    "\n",
    "unique_RatecodeID= df.select('RatecodeID').distinct()\n",
    "print('Unique values in RatecodeID: ')\n",
    "unique_RatecodeID.show()\n",
    "\n",
    "unique_store_and_fwd_flag = df.select('store_and_fwd_flag').distinct()\n",
    "print('Unique values in store_and_fwd_flag: ')\n",
    "unique_store_and_fwd_flag.show()\n",
    "\n",
    "unique_congestion_surcharge= df.select('congestion_surcharge').distinct()\n",
    "print('Unique values in congestion_surcharge: ')\n",
    "unique_congestion_surcharge.show()\n",
    "\n",
    "unique_Airport_fee = df.select('Airport_fee').distinct()\n",
    "print('Unique values in Airport_fee: ')\n",
    "unique_Airport_fee.show()"
   ]
  },
  {
   "cell_type": "code",
   "execution_count": 12,
   "id": "90db5302-9969-4347-8f5f-0e0d0a6dfa95",
   "metadata": {},
   "outputs": [
    {
     "name": "stdout",
     "output_type": "stream",
     "text": [
      "No. of rows:  11946619\n",
      "No. of columns:  19\n"
     ]
    }
   ],
   "source": [
    "print('No. of rows: ', df.count())\n",
    "print('No. of columns: ', len(df.columns))"
   ]
  },
  {
   "cell_type": "code",
   "execution_count": 13,
   "id": "eb58f24c-fc24-407f-9dc7-44d17975511f",
   "metadata": {},
   "outputs": [
    {
     "name": "stdout",
     "output_type": "stream",
     "text": [
      "+--------+--------------------+---------------------+---------------+-------------+----------+------------------+------------+------------+------------+-----------+-----+-------+----------+------------+---------------------+------------+--------------------+-----------+-----+\n",
      "|VendorID|tpep_pickup_datetime|tpep_dropoff_datetime|passenger_count|trip_distance|RatecodeID|store_and_fwd_flag|PULocationID|DOLocationID|payment_type|fare_amount|extra|mta_tax|tip_amount|tolls_amount|improvement_surcharge|total_amount|congestion_surcharge|Airport_fee|count|\n",
      "+--------+--------------------+---------------------+---------------+-------------+----------+------------------+------------+------------+------------+-----------+-----+-------+----------+------------+---------------------+------------+--------------------+-----------+-----+\n",
      "|       2| 2023-11-13 13:26:12|  2023-11-13 14:48:41|              1|        18.87|         2|                 N|         230|         132|           1|       70.0|  0.0|    0.5|     16.19|        6.94|                  1.0|       97.13|                 2.5|        0.0|    2|\n",
      "|       2| 2024-02-08 18:23:50|  2024-02-08 18:38:14|              1|         0.81|         1|                 N|         162|         230|           1|       12.8|  2.5|    0.5|      3.86|         0.0|                  1.0|       23.16|                 2.5|        0.0|    2|\n",
      "|       2| 2023-11-13 13:57:30|  2023-11-13 14:54:16|              1|        18.02|         2|                 N|          10|         239|           2|       70.0|  5.0|    0.5|       0.0|        6.94|                  1.0|       85.94|                 2.5|        0.0|    2|\n",
      "+--------+--------------------+---------------------+---------------+-------------+----------+------------------+------------+------------+------------+-----------+-----+-------+----------+------------+---------------------+------------+--------------------+-----------+-----+\n",
      "\n"
     ]
    }
   ],
   "source": [
    "# Group by all columns and count to identify duplicates\n",
    "duplicate_counts = df.groupBy(df.columns).count().filter(\"count > 1\")\n",
    "duplicate_counts.show()"
   ]
  },
  {
   "cell_type": "code",
   "execution_count": 14,
   "id": "776fce0a",
   "metadata": {},
   "outputs": [
    {
     "name": "stdout",
     "output_type": "stream",
     "text": [
      "+--------+--------------------+---------------------+---------------+-------------+----------+------------------+------------+------------+------------+-----------+-----+-------+----------+------------+---------------------+------------+--------------------+-----------+\n",
      "|VendorID|tpep_pickup_datetime|tpep_dropoff_datetime|passenger_count|trip_distance|RatecodeID|store_and_fwd_flag|PULocationID|DOLocationID|payment_type|fare_amount|extra|mta_tax|tip_amount|tolls_amount|improvement_surcharge|total_amount|congestion_surcharge|Airport_fee|\n",
      "+--------+--------------------+---------------------+---------------+-------------+----------+------------------+------------+------------+------------+-----------+-----+-------+----------+------------+---------------------+------------+--------------------+-----------+\n",
      "|       2| 2023-11-01 00:10:43|  2023-11-01 00:36:39|              1|         5.45|         1|                 N|         137|          41|           2|       28.9|  1.0|    0.5|       0.0|         0.0|                  1.0|        33.9|                 2.5|        0.0|\n",
      "|       2| 2023-11-01 00:12:54|  2023-11-01 00:38:02|              1|         6.56|         1|                 N|         162|         255|           1|       31.7|  1.0|    0.5|      9.18|         0.0|                  1.0|       45.88|                 2.5|        0.0|\n",
      "|       2| 2023-11-01 00:00:25|  2023-11-01 00:19:36|              1|         7.32|         1|                 N|         163|          42|           1|       31.7|  1.0|    0.5|      7.34|         0.0|                  1.0|       44.04|                 2.5|        0.0|\n",
      "|       2| 2023-11-01 00:13:22|  2023-11-01 00:21:32|              1|         1.96|         1|                 N|          79|         233|           1|       11.4|  1.0|    0.5|      3.28|         0.0|                  1.0|       19.68|                 2.5|        0.0|\n",
      "|       2| 2023-11-01 00:49:14|  2023-11-01 01:24:31|              2|        18.03|         2|                 N|         132|         234|           1|       70.0|  0.0|    0.5|     16.54|        6.94|                  1.0|       99.23|                 2.5|       1.75|\n",
      "|       1| 2023-11-01 00:27:05|  2023-11-01 00:34:03|              1|          1.1|         1|                 N|         237|         161|           2|        8.6|  3.5|    0.5|       0.0|         0.0|                  1.0|        13.6|                 2.5|        0.0|\n",
      "|       2| 2023-11-01 00:50:51|  2023-11-01 01:04:09|              1|         1.73|         1|                 N|         164|         230|           1|       12.8|  1.0|    0.5|      3.56|         0.0|                  1.0|       21.36|                 2.5|        0.0|\n",
      "|       2| 2023-11-01 00:52:41|  2023-11-01 01:04:53|              1|         1.77|         1|                 N|         114|         186|           2|       13.5|  1.0|    0.5|       0.0|         0.0|                  1.0|        18.5|                 2.5|        0.0|\n",
      "|       2| 2023-11-01 00:01:06|  2023-11-01 00:04:22|              1|         0.56|         1|                 N|         249|         231|           2|        5.1|  1.0|    0.5|       0.0|         0.0|                  1.0|        10.1|                 2.5|        0.0|\n",
      "|       2| 2023-10-31 23:57:24|  2023-11-01 00:08:25|              5|         1.65|         1|                 N|         144|         158|           1|       12.1|  1.0|    0.5|      3.42|         0.0|                  1.0|       20.52|                 2.5|        0.0|\n",
      "|       2| 2023-11-01 00:40:34|  2023-11-01 01:15:19|              3|         19.2|         2|                 N|         132|         263|           1|       70.0|  0.0|    0.5|      10.0|        6.94|                  1.0|       92.69|                 2.5|       1.75|\n",
      "|       2| 2023-11-01 00:27:26|  2023-11-01 00:37:12|              1|         1.55|         1|                 N|          87|         144|           1|       11.4|  1.0|    0.5|       4.1|         0.0|                  1.0|        20.5|                 2.5|        0.0|\n",
      "|       1| 2023-11-01 01:51:53|  2023-11-01 01:56:53|              3|          0.7|         1|                 N|         161|         230|           1|        6.5|  3.5|    0.5|       0.0|         0.0|                  1.0|        11.5|                 2.5|        0.0|\n",
      "|       2| 2023-11-01 01:52:14|  2023-11-01 02:05:40|              2|         4.12|         1|                 N|         231|         137|           1|       19.8|  1.0|    0.5|       0.0|         0.0|                  1.0|        24.8|                 2.5|        0.0|\n",
      "|       2| 2023-11-01 01:55:04|  2023-11-01 02:04:17|              3|         2.53|         1|                 N|          88|         158|           2|       14.2|  1.0|    0.5|       0.0|         0.0|                  1.0|        19.2|                 2.5|        0.0|\n",
      "|       2| 2023-11-01 01:43:48|  2023-11-01 01:49:26|              1|         1.16|         1|                 N|          48|         163|           2|        7.9|  1.0|    0.5|       0.0|         0.0|                  1.0|        12.9|                 2.5|        0.0|\n",
      "|       2| 2023-11-01 01:09:28|  2023-11-01 01:17:58|              1|         1.41|         1|                 N|         246|          48|           1|       10.7|  1.0|    0.5|      3.14|         0.0|                  1.0|       18.84|                 2.5|        0.0|\n",
      "|       2| 2023-11-01 01:13:26|  2023-11-01 01:18:58|              2|         0.79|         1|                 N|         158|         234|           1|        7.2|  1.0|    0.5|      2.44|         0.0|                  1.0|       14.64|                 2.5|        0.0|\n",
      "|       1| 2023-11-01 01:27:14|  2023-11-01 01:42:40|              1|          3.4|         1|                 N|         100|         263|           1|       16.3|  3.5|    0.5|      4.25|         0.0|                  1.0|       25.55|                 2.5|        0.0|\n",
      "|       2| 2023-11-01 01:29:41|  2023-11-01 01:49:33|              1|         4.96|         1|                 N|         148|          62|           1|       24.7|  1.0|    0.5|      5.94|         0.0|                  1.0|       35.64|                 2.5|        0.0|\n",
      "+--------+--------------------+---------------------+---------------+-------------+----------+------------------+------------+------------+------------+-----------+-----+-------+----------+------------+---------------------+------------+--------------------+-----------+\n",
      "only showing top 20 rows\n",
      "\n"
     ]
    }
   ],
   "source": [
    "# Drop duplicate rows based on all columns\n",
    "df = df.dropDuplicates()\n",
    "\n",
    "# Show the deduplicated DataFrame\n",
    "df.show()"
   ]
  },
  {
   "cell_type": "code",
   "execution_count": 15,
   "id": "a0f54df3",
   "metadata": {},
   "outputs": [
    {
     "name": "stdout",
     "output_type": "stream",
     "text": [
      "+--------+--------------------+---------------------+---------------+-------------+----------+------------------+------------+------------+------------+-----------+-----+-------+----------+------------+---------------------+------------+--------------------+-----------+-----+\n",
      "|VendorID|tpep_pickup_datetime|tpep_dropoff_datetime|passenger_count|trip_distance|RatecodeID|store_and_fwd_flag|PULocationID|DOLocationID|payment_type|fare_amount|extra|mta_tax|tip_amount|tolls_amount|improvement_surcharge|total_amount|congestion_surcharge|Airport_fee|count|\n",
      "+--------+--------------------+---------------------+---------------+-------------+----------+------------------+------------+------------+------------+-----------+-----+-------+----------+------------+---------------------+------------+--------------------+-----------+-----+\n",
      "+--------+--------------------+---------------------+---------------+-------------+----------+------------------+------------+------------+------------+-----------+-----+-------+----------+------------+---------------------+------------+--------------------+-----------+-----+\n",
      "\n"
     ]
    }
   ],
   "source": [
    "# Group by all columns and count to identify duplicates\n",
    "duplicate_counts = df.groupBy(df.columns).count().filter(\"count > 1\")\n",
    "duplicate_counts.show()"
   ]
  },
  {
   "cell_type": "markdown",
   "id": "628e2c00-9828-4a56-8c09-7c873de40f54",
   "metadata": {},
   "source": [
    "**Observation**\n",
    "\n",
    "No duplicate values present"
   ]
  },
  {
   "cell_type": "markdown",
   "id": "c6519012-7077-41ef-a934-60111b5f969c",
   "metadata": {},
   "source": [
    "### Data Transformation to store in dimension and fact tables"
   ]
  },
  {
   "cell_type": "code",
   "execution_count": 16,
   "id": "0fdb1c72-66a2-4851-afda-fd7d5b4ce798",
   "metadata": {},
   "outputs": [],
   "source": [
    "# dim_vendor\n",
    "vendor_dim = df.select(\"VendorID\").distinct().withColumnRenamed(\"VendorID\", \"vendor_id\")\\\n",
    "    .withColumn(\"vendor_name\", when(col(\"vendor_id\") == 1, \"Creative Mobile Technologies, LLC\")\n",
    "                             .when(col(\"vendor_id\") == 2, \"VeriFone Inc.\"))"
   ]
  },
  {
   "cell_type": "code",
   "execution_count": 17,
   "id": "1735b227-a560-41df-b3a8-aae8c1c0be09",
   "metadata": {},
   "outputs": [
    {
     "name": "stdout",
     "output_type": "stream",
     "text": [
      "+---------+--------------------+\n",
      "|vendor_id|         vendor_name|\n",
      "+---------+--------------------+\n",
      "|        1|Creative Mobile T...|\n",
      "|        2|       VeriFone Inc.|\n",
      "+---------+--------------------+\n",
      "\n"
     ]
    }
   ],
   "source": [
    "vendor_dim.show()"
   ]
  },
  {
   "cell_type": "code",
   "execution_count": 18,
   "id": "cc2b931d-a4d0-4d6d-81c4-e5f3368bf40a",
   "metadata": {},
   "outputs": [],
   "source": [
    "# dim_rate_code\n",
    "rate_code_dim = df.select(\"RateCodeID\").distinct().withColumnRenamed(\"RateCodeID\", \"rate_code_id\")\\\n",
    "    .withColumn(\"rate_code_description\", \n",
    "                when(col(\"rate_code_id\") == 1, \"Standard rate\")\n",
    "                .when(col(\"rate_code_id\") == 2, \"JFK\")\n",
    "                .when(col(\"rate_code_id\") == 3, \"Newark\")\n",
    "                .when(col(\"rate_code_id\") == 4, \"Nassau or Westchester\")\n",
    "                .when(col(\"rate_code_id\") == 5, \"Negotiated fare\")\n",
    "                .when(col(\"rate_code_id\") == 6, \"Group ride\"))"
   ]
  },
  {
   "cell_type": "code",
   "execution_count": 19,
   "id": "b091bb37-f771-4358-b4ad-1ea6b6bd40ee",
   "metadata": {},
   "outputs": [
    {
     "name": "stdout",
     "output_type": "stream",
     "text": [
      "+------------+---------------------+\n",
      "|rate_code_id|rate_code_description|\n",
      "+------------+---------------------+\n",
      "|           6|           Group ride|\n",
      "|           5|      Negotiated fare|\n",
      "|           1|        Standard rate|\n",
      "|           3|               Newark|\n",
      "|           2|                  JFK|\n",
      "|           4| Nassau or Westche...|\n",
      "+------------+---------------------+\n",
      "\n"
     ]
    }
   ],
   "source": [
    "rate_code_dim.show()"
   ]
  },
  {
   "cell_type": "code",
   "execution_count": 20,
   "id": "27353453-8753-4b82-a64e-a7bf4a39a7c6",
   "metadata": {},
   "outputs": [],
   "source": [
    "# dim_payment_type\n",
    "payment_type_dim = df.select(\"payment_type\").distinct().withColumnRenamed(\"payment_type\", \"payment_type_id\")\\\n",
    "    .withColumn(\"payment_type_description\", \n",
    "                when(col(\"payment_type_id\") == 1, \"Credit card\")\n",
    "                .when(col(\"payment_type_id\") == 2, \"Cash\")\n",
    "                .when(col(\"payment_type_id\") == 3, \"No charge\")\n",
    "                .when(col(\"payment_type_id\") == 4, \"Dispute\")\n",
    "                .when(col(\"payment_type_id\") == 5, \"Unknown\")\n",
    "                .when(col(\"payment_type_id\") == 6, \"Voieded Trip\"))"
   ]
  },
  {
   "cell_type": "code",
   "execution_count": 21,
   "id": "58d13890-c50f-40bf-b193-0e7e542fe984",
   "metadata": {},
   "outputs": [
    {
     "name": "stdout",
     "output_type": "stream",
     "text": [
      "+---------------+------------------------+\n",
      "|payment_type_id|payment_type_description|\n",
      "+---------------+------------------------+\n",
      "|              1|             Credit card|\n",
      "|              3|               No charge|\n",
      "|              2|                    Cash|\n",
      "|              4|                 Dispute|\n",
      "+---------------+------------------------+\n",
      "\n"
     ]
    }
   ],
   "source": [
    "payment_type_dim.show()"
   ]
  },
  {
   "cell_type": "code",
   "execution_count": 22,
   "id": "fa1ec190-247a-4e04-9fd0-78ed48e0e33e",
   "metadata": {},
   "outputs": [],
   "source": [
    "# dim_datetime\n",
    "datetime_dim = df.select(\n",
    "    col(\"tpep_pickup_datetime\").alias(\"pickup_datetime\"),\n",
    "    col(\"tpep_dropoff_datetime\").alias(\"dropoff_datetime\")\n",
    ").distinct().withColumn(\"datetime_id\", monotonically_increasing_id())\\\n",
    "    .withColumn(\"pick_hour\", date_format(col(\"pickup_datetime\"), \"HH\"))\\\n",
    "    .withColumn(\"pick_day\", date_format(col(\"pickup_datetime\"), \"dd\"))\\\n",
    "    .withColumn(\"pick_month\", date_format(col(\"pickup_datetime\"), \"MM\"))\\\n",
    "    .withColumn(\"pick_year\", date_format(col(\"pickup_datetime\"), \"yyyy\"))\\\n",
    "    .withColumn(\"pick_weekday\", date_format(col(\"pickup_datetime\"), \"E\"))\\\n",
    "    .withColumn(\"drop_hour\", date_format(col(\"dropoff_datetime\"), \"HH\"))\\\n",
    "    .withColumn(\"drop_day\", date_format(col(\"dropoff_datetime\"), \"dd\"))\\\n",
    "    .withColumn(\"drop_month\", date_format(col(\"dropoff_datetime\"), \"MM\"))\\\n",
    "    .withColumn(\"drop_year\", date_format(col(\"dropoff_datetime\"), \"yyyy\"))\\\n",
    "    .withColumn(\"drop_weekday\", date_format(col(\"dropoff_datetime\"), \"E\"))"
   ]
  },
  {
   "cell_type": "code",
   "execution_count": 23,
   "id": "16cf04c2-4d68-43ad-9ad4-c51c39773321",
   "metadata": {},
   "outputs": [
    {
     "name": "stdout",
     "output_type": "stream",
     "text": [
      "11793193\n",
      "+-------------------+-------------------+-----------+---------+--------+----------+---------+------------+---------+--------+----------+---------+------------+\n",
      "|    pickup_datetime|   dropoff_datetime|datetime_id|pick_hour|pick_day|pick_month|pick_year|pick_weekday|drop_hour|drop_day|drop_month|drop_year|drop_weekday|\n",
      "+-------------------+-------------------+-----------+---------+--------+----------+---------+------------+---------+--------+----------+---------+------------+\n",
      "|2023-11-01 00:56:12|2023-11-01 01:21:38|          0|       00|      01|        11|     2023|         Wed|       01|      01|        11|     2023|         Wed|\n",
      "|2023-11-01 00:35:59|2023-11-01 00:57:10|          1|       00|      01|        11|     2023|         Wed|       00|      01|        11|     2023|         Wed|\n",
      "|2023-11-01 00:10:48|2023-11-01 00:14:44|          2|       00|      01|        11|     2023|         Wed|       00|      01|        11|     2023|         Wed|\n",
      "|2023-11-01 00:02:44|2023-11-01 00:31:37|          3|       00|      01|        11|     2023|         Wed|       00|      01|        11|     2023|         Wed|\n",
      "|2023-11-01 00:11:34|2023-11-01 00:23:28|          4|       00|      01|        11|     2023|         Wed|       00|      01|        11|     2023|         Wed|\n",
      "|2023-11-01 00:08:48|2023-11-01 00:19:17|          5|       00|      01|        11|     2023|         Wed|       00|      01|        11|     2023|         Wed|\n",
      "|2023-11-01 00:17:48|2023-11-01 00:28:50|          6|       00|      01|        11|     2023|         Wed|       00|      01|        11|     2023|         Wed|\n",
      "|2023-11-01 00:45:54|2023-11-01 00:59:25|          7|       00|      01|        11|     2023|         Wed|       00|      01|        11|     2023|         Wed|\n",
      "|2023-11-01 00:27:51|2023-11-01 00:49:38|          8|       00|      01|        11|     2023|         Wed|       00|      01|        11|     2023|         Wed|\n",
      "|2023-11-01 00:28:26|2023-11-01 00:40:33|          9|       00|      01|        11|     2023|         Wed|       00|      01|        11|     2023|         Wed|\n",
      "|2023-11-01 00:43:16|2023-11-01 00:52:53|         10|       00|      01|        11|     2023|         Wed|       00|      01|        11|     2023|         Wed|\n",
      "|2023-11-01 01:24:51|2023-11-01 01:42:51|         11|       01|      01|        11|     2023|         Wed|       01|      01|        11|     2023|         Wed|\n",
      "|2023-11-01 01:21:28|2023-11-01 01:41:18|         12|       01|      01|        11|     2023|         Wed|       01|      01|        11|     2023|         Wed|\n",
      "|2023-11-01 02:02:05|2023-11-01 02:06:28|         13|       02|      01|        11|     2023|         Wed|       02|      01|        11|     2023|         Wed|\n",
      "|2023-11-01 01:08:23|2023-11-01 01:12:04|         14|       01|      01|        11|     2023|         Wed|       01|      01|        11|     2023|         Wed|\n",
      "|2023-11-01 01:03:30|2023-11-01 01:23:43|         15|       01|      01|        11|     2023|         Wed|       01|      01|        11|     2023|         Wed|\n",
      "|2023-11-01 01:04:43|2023-11-01 01:17:52|         16|       01|      01|        11|     2023|         Wed|       01|      01|        11|     2023|         Wed|\n",
      "|2023-11-01 01:09:53|2023-11-01 01:34:04|         17|       01|      01|        11|     2023|         Wed|       01|      01|        11|     2023|         Wed|\n",
      "|2023-11-01 01:47:35|2023-11-01 01:52:14|         18|       01|      01|        11|     2023|         Wed|       01|      01|        11|     2023|         Wed|\n",
      "|2023-11-01 01:43:17|2023-11-01 01:59:30|         19|       01|      01|        11|     2023|         Wed|       01|      01|        11|     2023|         Wed|\n",
      "+-------------------+-------------------+-----------+---------+--------+----------+---------+------------+---------+--------+----------+---------+------------+\n",
      "only showing top 20 rows\n",
      "\n"
     ]
    }
   ],
   "source": [
    "print(datetime_dim.count())\n",
    "datetime_dim.show()"
   ]
  },
  {
   "cell_type": "markdown",
   "id": "3ea95e4d-5a65-4624-afdb-d08832eec5ec",
   "metadata": {},
   "source": [
    "For pickup locaation and dropoff location dimension tables we will have to load the taxi zone csv data to get the zones data"
   ]
  },
  {
   "cell_type": "code",
   "execution_count": 24,
   "id": "8c0130d6-78e8-416e-adaa-fa38ebb5c411",
   "metadata": {},
   "outputs": [],
   "source": [
    "taxi_zone_csv_path = \"../Data/taxi_zone_lookup.csv\"\n",
    "taxi_zone_df = spark.read.csv(taxi_zone_csv_path, header=True, inferSchema=True)"
   ]
  },
  {
   "cell_type": "code",
   "execution_count": 25,
   "id": "e8f3c20b-c39b-4593-b8a1-7823eecc914d",
   "metadata": {},
   "outputs": [
    {
     "name": "stdout",
     "output_type": "stream",
     "text": [
      "+----------+-------------+--------------------+------------+\n",
      "|LocationID|      Borough|                Zone|service_zone|\n",
      "+----------+-------------+--------------------+------------+\n",
      "|         1|          EWR|      Newark Airport|         EWR|\n",
      "|         2|       Queens|         Jamaica Bay|   Boro Zone|\n",
      "|         3|        Bronx|Allerton/Pelham G...|   Boro Zone|\n",
      "|         4|    Manhattan|       Alphabet City| Yellow Zone|\n",
      "|         5|Staten Island|       Arden Heights|   Boro Zone|\n",
      "|         6|Staten Island|Arrochar/Fort Wad...|   Boro Zone|\n",
      "|         7|       Queens|             Astoria|   Boro Zone|\n",
      "|         8|       Queens|        Astoria Park|   Boro Zone|\n",
      "|         9|       Queens|          Auburndale|   Boro Zone|\n",
      "|        10|       Queens|        Baisley Park|   Boro Zone|\n",
      "|        11|     Brooklyn|          Bath Beach|   Boro Zone|\n",
      "|        12|    Manhattan|        Battery Park| Yellow Zone|\n",
      "|        13|    Manhattan|   Battery Park City| Yellow Zone|\n",
      "|        14|     Brooklyn|           Bay Ridge|   Boro Zone|\n",
      "|        15|       Queens|Bay Terrace/Fort ...|   Boro Zone|\n",
      "|        16|       Queens|             Bayside|   Boro Zone|\n",
      "|        17|     Brooklyn|             Bedford|   Boro Zone|\n",
      "|        18|        Bronx|        Bedford Park|   Boro Zone|\n",
      "|        19|       Queens|           Bellerose|   Boro Zone|\n",
      "|        20|        Bronx|             Belmont|   Boro Zone|\n",
      "+----------+-------------+--------------------+------------+\n",
      "only showing top 20 rows\n",
      "\n"
     ]
    }
   ],
   "source": [
    "taxi_zone_df.show()"
   ]
  },
  {
   "cell_type": "code",
   "execution_count": 26,
   "id": "5024e20d-58bc-48c3-aa99-7432e320262d",
   "metadata": {},
   "outputs": [],
   "source": [
    "# Create dim_pickup_location table\n",
    "pickup_location_dim = df.select(\n",
    "    col(\"PULocationID\").alias(\"pickup_location_id\")\n",
    ").distinct()\n",
    "\n",
    "pickup_location_dim = pickup_location_dim.join(taxi_zone_df, pickup_location_dim.pickup_location_id == taxi_zone_df.LocationID, \"left\")\\\n",
    "    .select(\n",
    "        col(\"pickup_location_id\"),\n",
    "        col(\"Borough\").alias(\"pickup_borough\"),\n",
    "        col(\"Zone\").alias(\"pickup_zone\"),\n",
    "        col(\"service_zone\").alias(\"pickup_service_zone\")\n",
    "    ).distinct()"
   ]
  },
  {
   "cell_type": "code",
   "execution_count": 27,
   "id": "7ccfeb58-71e9-4713-bfb9-8e43cfdc986d",
   "metadata": {},
   "outputs": [
    {
     "name": "stdout",
     "output_type": "stream",
     "text": [
      "262\n",
      "+------------------+--------------+--------------------+-------------------+\n",
      "|pickup_location_id|pickup_borough|         pickup_zone|pickup_service_zone|\n",
      "+------------------+--------------+--------------------+-------------------+\n",
      "|               148|     Manhattan|     Lower East Side|        Yellow Zone|\n",
      "|               243|     Manhattan|Washington Height...|          Boro Zone|\n",
      "|                31|         Bronx|          Bronx Park|          Boro Zone|\n",
      "|               137|     Manhattan|            Kips Bay|        Yellow Zone|\n",
      "|                85|      Brooklyn|             Erasmus|          Boro Zone|\n",
      "|               251| Staten Island|         Westerleigh|          Boro Zone|\n",
      "|                65|      Brooklyn|Downtown Brooklyn...|          Boro Zone|\n",
      "|               255|      Brooklyn|Williamsburg (Nor...|          Boro Zone|\n",
      "|                53|        Queens|       College Point|          Boro Zone|\n",
      "|               133|      Brooklyn|          Kensington|          Boro Zone|\n",
      "|                78|         Bronx|        East Tremont|          Boro Zone|\n",
      "|               155|      Brooklyn|Marine Park/Mill ...|          Boro Zone|\n",
      "|               108|      Brooklyn|           Gravesend|          Boro Zone|\n",
      "|               211|     Manhattan|                SoHo|        Yellow Zone|\n",
      "|               193|        Queens|Queensbridge/Rave...|          Boro Zone|\n",
      "|                34|      Brooklyn|  Brooklyn Navy Yard|          Boro Zone|\n",
      "|               126|         Bronx|         Hunts Point|          Boro Zone|\n",
      "|               101|        Queens|           Glen Oaks|          Boro Zone|\n",
      "|               115| Staten Island| Grymes Hill/Clifton|          Boro Zone|\n",
      "|                81|         Bronx|         Eastchester|          Boro Zone|\n",
      "+------------------+--------------+--------------------+-------------------+\n",
      "only showing top 20 rows\n",
      "\n"
     ]
    }
   ],
   "source": [
    "print(pickup_location_dim.count())\n",
    "pickup_location_dim.show()"
   ]
  },
  {
   "cell_type": "code",
   "execution_count": 28,
   "id": "2a082142-0edf-4f51-8c29-3ce34f58e26f",
   "metadata": {},
   "outputs": [],
   "source": [
    "# Create dim_dropoff_location table\n",
    "dropoff_location_dim = df.select(\n",
    "    col(\"DOLocationID\").alias(\"dropoff_location_id\")\n",
    ").distinct()"
   ]
  },
  {
   "cell_type": "code",
   "execution_count": 29,
   "id": "bee2fd1d-ad5f-4caa-b00b-747f5d8cce40",
   "metadata": {},
   "outputs": [],
   "source": [
    "dropoff_location_dim = dropoff_location_dim.join(taxi_zone_df, dropoff_location_dim.dropoff_location_id == taxi_zone_df.LocationID, \"left\")\\\n",
    "    .select(\n",
    "        col(\"dropoff_location_id\"),\n",
    "        col(\"Borough\").alias(\"dropoff_borough\"),\n",
    "        col(\"Zone\").alias(\"dropoff_zone\"),\n",
    "        col(\"service_zone\").alias(\"dropoff_service_zone\")\n",
    "    ).distinct()"
   ]
  },
  {
   "cell_type": "code",
   "execution_count": 30,
   "id": "370be00c-23bc-42de-8b28-8eee9e802b0e",
   "metadata": {},
   "outputs": [
    {
     "name": "stdout",
     "output_type": "stream",
     "text": [
      "261\n",
      "+-------------------+---------------+--------------------+--------------------+\n",
      "|dropoff_location_id|dropoff_borough|        dropoff_zone|dropoff_service_zone|\n",
      "+-------------------+---------------+--------------------+--------------------+\n",
      "|                148|      Manhattan|     Lower East Side|         Yellow Zone|\n",
      "|                243|      Manhattan|Washington Height...|           Boro Zone|\n",
      "|                 31|          Bronx|          Bronx Park|           Boro Zone|\n",
      "|                137|      Manhattan|            Kips Bay|         Yellow Zone|\n",
      "|                 85|       Brooklyn|             Erasmus|           Boro Zone|\n",
      "|                251|  Staten Island|         Westerleigh|           Boro Zone|\n",
      "|                 65|       Brooklyn|Downtown Brooklyn...|           Boro Zone|\n",
      "|                255|       Brooklyn|Williamsburg (Nor...|           Boro Zone|\n",
      "|                 53|         Queens|       College Point|           Boro Zone|\n",
      "|                133|       Brooklyn|          Kensington|           Boro Zone|\n",
      "|                 78|          Bronx|        East Tremont|           Boro Zone|\n",
      "|                155|       Brooklyn|Marine Park/Mill ...|           Boro Zone|\n",
      "|                108|       Brooklyn|           Gravesend|           Boro Zone|\n",
      "|                 34|       Brooklyn|  Brooklyn Navy Yard|           Boro Zone|\n",
      "|                211|      Manhattan|                SoHo|         Yellow Zone|\n",
      "|                193|         Queens|Queensbridge/Rave...|           Boro Zone|\n",
      "|                101|         Queens|           Glen Oaks|           Boro Zone|\n",
      "|                126|          Bronx|         Hunts Point|           Boro Zone|\n",
      "|                115|  Staten Island| Grymes Hill/Clifton|           Boro Zone|\n",
      "|                 81|          Bronx|         Eastchester|           Boro Zone|\n",
      "+-------------------+---------------+--------------------+--------------------+\n",
      "only showing top 20 rows\n",
      "\n"
     ]
    }
   ],
   "source": [
    "print(dropoff_location_dim.count())\n",
    "dropoff_location_dim.show()"
   ]
  },
  {
   "cell_type": "code",
   "execution_count": 31,
   "id": "8a60e541-d6d6-42c8-91b7-a53cc5db797b",
   "metadata": {},
   "outputs": [],
   "source": [
    "# creating combined data consisting of original dataframe and dimension tables data\n",
    "combined_data_df = df.join(pickup_location_dim, df.PULocationID == pickup_location_dim.pickup_location_id, \"left\") \\\n",
    "       .join(dropoff_location_dim, df.DOLocationID == dropoff_location_dim.dropoff_location_id, \"left\") \\\n",
    "       .join(datetime_dim, \n",
    "             (df.tpep_pickup_datetime == datetime_dim.pickup_datetime) & \n",
    "             (df.tpep_dropoff_datetime == datetime_dim.dropoff_datetime), \"left\")"
   ]
  },
  {
   "cell_type": "code",
   "execution_count": 32,
   "id": "331e85c0-d1bd-4162-a468-9c9f30c77cc5",
   "metadata": {},
   "outputs": [
    {
     "name": "stdout",
     "output_type": "stream",
     "text": [
      "+--------+--------------------+---------------------+---------------+-------------+----------+------------------+------------+------------+------------+-----------+-----+-------+----------+------------+---------------------+------------+--------------------+-----------+------------------+--------------+-------------+-------------------+-------------------+---------------+--------------------+--------------------+-------------------+-------------------+-----------+---------+--------+----------+---------+------------+---------+--------+----------+---------+------------+\n",
      "|VendorID|tpep_pickup_datetime|tpep_dropoff_datetime|passenger_count|trip_distance|RatecodeID|store_and_fwd_flag|PULocationID|DOLocationID|payment_type|fare_amount|extra|mta_tax|tip_amount|tolls_amount|improvement_surcharge|total_amount|congestion_surcharge|Airport_fee|pickup_location_id|pickup_borough|  pickup_zone|pickup_service_zone|dropoff_location_id|dropoff_borough|        dropoff_zone|dropoff_service_zone|    pickup_datetime|   dropoff_datetime|datetime_id|pick_hour|pick_day|pick_month|pick_year|pick_weekday|drop_hour|drop_day|drop_month|drop_year|drop_weekday|\n",
      "+--------+--------------------+---------------------+---------------+-------------+----------+------------------+------------+------------+------------+-----------+-----+-------+----------+------------+---------------------+------------+--------------------+-----------+------------------+--------------+-------------+-------------------+-------------------+---------------+--------------------+--------------------+-------------------+-------------------+-----------+---------+--------+----------+---------+------------+---------+--------+----------+---------+------------+\n",
      "|       1| 2023-11-01 00:30:10|  2023-11-01 00:39:21|              1|          1.9|         1|                 N|          43|          75|           1|       12.8|  3.5|    0.5|       2.0|         0.0|                  1.0|        19.8|                 2.5|        0.0|                43|     Manhattan| Central Park|        Yellow Zone|                 75|      Manhattan|   East Harlem South|           Boro Zone|2023-11-01 00:30:10|2023-11-01 00:39:21|      77035|       00|      01|        11|     2023|         Wed|       00|      01|        11|     2023|         Wed|\n",
      "|       2| 2023-11-01 00:33:04|  2023-11-01 01:01:25|              1|          7.4|         1|                 N|          45|         151|           1|       36.6|  1.0|    0.5|      8.32|         0.0|                  1.0|       49.92|                 2.5|        0.0|                45|     Manhattan|    Chinatown|        Yellow Zone|                151|      Manhattan|    Manhattan Valley|         Yellow Zone|2023-11-01 00:33:04|2023-11-01 01:01:25| 8590011801|       00|      01|        11|     2023|         Wed|       01|      01|        11|     2023|         Wed|\n",
      "|       2| 2023-11-01 00:57:25|  2023-11-01 01:14:37|              1|         3.74|         1|                 N|          48|         249|           1|       20.5|  1.0|    0.5|       5.1|         0.0|                  1.0|        30.6|                 2.5|        0.0|                48|     Manhattan| Clinton East|        Yellow Zone|                249|      Manhattan|        West Village|         Yellow Zone|2023-11-01 00:57:25|2023-11-01 01:14:37| 8589949949|       00|      01|        11|     2023|         Wed|       01|      01|        11|     2023|         Wed|\n",
      "|       1| 2023-11-01 00:44:40|  2023-11-01 00:50:57|              1|          0.9|         1|                 N|          68|          90|           1|        7.2|  3.5|    0.5|      2.45|         0.0|                  1.0|       14.65|                 2.5|        0.0|                68|     Manhattan| East Chelsea|        Yellow Zone|                 90|      Manhattan|            Flatiron|         Yellow Zone|2023-11-01 00:44:40|2023-11-01 00:50:57|17179896786|       00|      01|        11|     2023|         Wed|       00|      01|        11|     2023|         Wed|\n",
      "|       2| 2023-11-01 01:05:05|  2023-11-01 01:13:44|              1|         2.11|         1|                 N|          48|          68|           1|       11.4|  1.0|    0.5|       3.0|         0.0|                  1.0|        19.4|                 2.5|        0.0|                48|     Manhattan| Clinton East|        Yellow Zone|                 68|      Manhattan|        East Chelsea|         Yellow Zone|2023-11-01 01:05:05|2023-11-01 01:13:44|17179910767|       01|      01|        11|     2023|         Wed|       01|      01|        11|     2023|         Wed|\n",
      "|       2| 2023-11-01 01:34:34|  2023-11-01 01:47:24|              1|         2.84|         1|                 N|          48|         137|           1|       15.6|  1.0|    0.5|      5.15|         0.0|                  1.0|       25.75|                 2.5|        0.0|                48|     Manhattan| Clinton East|        Yellow Zone|                137|      Manhattan|            Kips Bay|         Yellow Zone|2023-11-01 01:34:34|2023-11-01 01:47:24|34359770608|       01|      01|        11|     2023|         Wed|       01|      01|        11|     2023|         Wed|\n",
      "|       2| 2023-11-01 01:25:08|  2023-11-01 01:40:51|              1|         5.09|         1|                 N|          45|         140|           1|       21.9|  1.0|    0.5|      5.38|         0.0|                  1.0|       32.28|                 2.5|        0.0|                45|     Manhattan|    Chinatown|        Yellow Zone|                140|      Manhattan|     Lenox Hill East|         Yellow Zone|2023-11-01 01:25:08|2023-11-01 01:40:51|42949750062|       01|      01|        11|     2023|         Wed|       01|      01|        11|     2023|         Wed|\n",
      "|       2| 2023-11-01 01:43:48|  2023-11-01 01:49:26|              1|         1.16|         1|                 N|          48|         163|           2|        7.9|  1.0|    0.5|       0.0|         0.0|                  1.0|        12.9|                 2.5|        0.0|                48|     Manhattan| Clinton East|        Yellow Zone|                163|      Manhattan|       Midtown North|         Yellow Zone|2023-11-01 01:43:48|2023-11-01 01:49:26|42949724535|       01|      01|        11|     2023|         Wed|       01|      01|        11|     2023|         Wed|\n",
      "|       1| 2023-11-01 02:27:36|  2023-11-01 02:40:28|              1|          2.6|         1|                 N|          48|         140|           1|       13.5|  3.5|    0.5|       3.7|         0.0|                  1.0|        22.2|                 2.5|        0.0|                48|     Manhattan| Clinton East|        Yellow Zone|                140|      Manhattan|     Lenox Hill East|         Yellow Zone|2023-11-01 02:27:36|2023-11-01 02:40:28|42949696604|       02|      01|        11|     2023|         Wed|       02|      01|        11|     2023|         Wed|\n",
      "|       2| 2023-11-01 01:06:16|  2023-11-01 01:18:44|              1|          3.4|         1|                 N|          68|         239|           1|       17.7|  1.0|    0.5|       1.0|         0.0|                  1.0|        23.7|                 2.5|        0.0|                68|     Manhattan| East Chelsea|        Yellow Zone|                239|      Manhattan|Upper West Side S...|         Yellow Zone|2023-11-01 01:06:16|2023-11-01 01:18:44|51539607579|       01|      01|        11|     2023|         Wed|       01|      01|        11|     2023|         Wed|\n",
      "|       2| 2023-11-01 00:25:26|  2023-11-01 00:27:29|              1|         0.53|         1|                 N|          48|          50|           1|        4.4|  1.0|    0.5|      1.88|         0.0|                  1.0|       11.28|                 2.5|        0.0|                48|     Manhattan| Clinton East|        Yellow Zone|                 50|      Manhattan|        Clinton West|         Yellow Zone|2023-11-01 00:25:26|2023-11-01 00:27:29|60129588676|       00|      01|        11|     2023|         Wed|       00|      01|        11|     2023|         Wed|\n",
      "|       2| 2023-11-01 00:40:58|  2023-11-01 00:51:48|              2|         2.39|         1|                 N|          48|         238|           1|       13.5|  1.0|    0.5|      4.62|         0.0|                  1.0|       23.12|                 2.5|        0.0|                48|     Manhattan| Clinton East|        Yellow Zone|                238|      Manhattan|Upper West Side N...|         Yellow Zone|2023-11-01 00:40:58|2023-11-01 00:51:48|68719533826|       00|      01|        11|     2023|         Wed|       00|      01|        11|     2023|         Wed|\n",
      "|       2| 2023-11-01 01:11:36|  2023-11-01 01:16:43|              1|         1.23|         1|                 N|          48|         142|           1|        7.9|  1.0|    0.5|      2.58|         0.0|                  1.0|       15.48|                 2.5|        0.0|                48|     Manhattan| Clinton East|        Yellow Zone|                142|      Manhattan| Lincoln Square East|         Yellow Zone|2023-11-01 01:11:36|2023-11-01 01:16:43|68719494650|       01|      01|        11|     2023|         Wed|       01|      01|        11|     2023|         Wed|\n",
      "|       2| 2023-11-01 01:37:32|  2023-11-01 01:49:55|              2|         2.67|         1|                 N|          48|         224|           1|       14.9|  1.0|    0.5|      3.98|         0.0|                  1.0|       23.88|                 2.5|        0.0|                48|     Manhattan| Clinton East|        Yellow Zone|                224|      Manhattan|Stuy Town/Peter C...|         Yellow Zone|2023-11-01 01:37:32|2023-11-01 01:49:55|68719504362|       01|      01|        11|     2023|         Wed|       01|      01|        11|     2023|         Wed|\n",
      "|       2| 2023-11-01 01:39:36|  2023-11-01 01:47:40|              1|         2.26|         1|                 N|          48|         238|           1|       12.1|  1.0|    0.5|       1.0|         0.0|                  1.0|        18.1|                 2.5|        0.0|                48|     Manhattan| Clinton East|        Yellow Zone|                238|      Manhattan|Upper West Side N...|         Yellow Zone|2023-11-01 01:39:36|2023-11-01 01:47:40|68719533833|       01|      01|        11|     2023|         Wed|       01|      01|        11|     2023|         Wed|\n",
      "|       1| 2023-11-01 02:01:38|  2023-11-01 02:05:10|              1|          1.0|         1|                 N|          43|         142|           2|        7.2|  3.5|    0.5|       0.0|         0.0|                  1.0|        12.2|                 2.5|        0.0|                43|     Manhattan| Central Park|        Yellow Zone|                142|      Manhattan| Lincoln Square East|         Yellow Zone|2023-11-01 02:01:38|2023-11-01 02:05:10|77309422762|       02|      01|        11|     2023|         Wed|       02|      01|        11|     2023|         Wed|\n",
      "|       2| 2023-11-01 00:17:03|  2023-11-01 00:32:21|              1|         3.03|         1|                 N|          48|         140|           1|       17.7|  1.0|    0.5|      4.54|         0.0|                  1.0|       27.24|                 2.5|        0.0|                48|     Manhattan| Clinton East|        Yellow Zone|                140|      Manhattan|     Lenox Hill East|         Yellow Zone|2023-11-01 00:17:03|2023-11-01 00:32:21|85899423119|       00|      01|        11|     2023|         Wed|       00|      01|        11|     2023|         Wed|\n",
      "|       2| 2023-11-01 00:44:03|  2023-11-01 00:58:43|              1|         4.06|         1|                 N|          63|          37|           4|      -19.8| -1.0|   -0.5|       0.0|         0.0|                 -1.0|       -22.3|                 0.0|        0.0|                63|      Brooklyn|Cypress Hills|          Boro Zone|                 37|       Brooklyn|      Bushwick South|           Boro Zone|2023-11-01 00:44:03|2023-11-01 00:58:43|94489357684|       00|      01|        11|     2023|         Wed|       00|      01|        11|     2023|         Wed|\n",
      "|       2| 2023-11-01 01:07:42|  2023-11-01 01:07:52|              2|          0.0|         5|                 N|           4|           4|           1|       15.0|  0.0|    0.0|       3.7|         0.0|                  1.0|        22.2|                 2.5|        0.0|                 4|     Manhattan|Alphabet City|        Yellow Zone|                  4|      Manhattan|       Alphabet City|         Yellow Zone|2023-11-01 01:07:42|2023-11-01 01:07:52|94489342439|       01|      01|        11|     2023|         Wed|       01|      01|        11|     2023|         Wed|\n",
      "|       2| 2023-11-01 02:42:07|  2023-11-01 04:14:41|              1|        52.65|         5|                 N|          48|         265|           1|      125.0|  0.0|    0.0|       8.0|         0.0|                  1.0|       134.0|                 0.0|        0.0|                48|     Manhattan| Clinton East|        Yellow Zone|                265|            N/A|      Outside of NYC|                 N/A|2023-11-01 02:42:07|2023-11-01 04:14:41|94489342378|       02|      01|        11|     2023|         Wed|       04|      01|        11|     2023|         Wed|\n",
      "+--------+--------------------+---------------------+---------------+-------------+----------+------------------+------------+------------+------------+-----------+-----+-------+----------+------------+---------------------+------------+--------------------+-----------+------------------+--------------+-------------+-------------------+-------------------+---------------+--------------------+--------------------+-------------------+-------------------+-----------+---------+--------+----------+---------+------------+---------+--------+----------+---------+------------+\n",
      "only showing top 20 rows\n",
      "\n"
     ]
    }
   ],
   "source": [
    "combined_data_df.show()"
   ]
  },
  {
   "cell_type": "code",
   "execution_count": 33,
   "id": "491ce716-fff0-4099-8668-f89cb0040a02",
   "metadata": {},
   "outputs": [],
   "source": [
    "# Create fact_trips\n",
    "fact_trips = combined_data_df.select(\n",
    "    col(\"VendorID\").alias(\"vendor_id\"),\n",
    "    col(\"RateCodeID\").alias(\"rate_code_id\"),\n",
    "    col(\"payment_type\").alias(\"payment_type_id\"),\n",
    "    col(\"pickup_location_id\"),\n",
    "    col(\"dropoff_location_id\"),\n",
    "    col(\"datetime_id\"),\n",
    "    col(\"Passenger_count\").alias(\"passenger_count\"),\n",
    "    col(\"Trip_distance\").alias(\"trip_distance\"),\n",
    "    col(\"Fare_amount\").alias(\"fare_amount\"),\n",
    "    col(\"Extra\").alias(\"extra\"),\n",
    "    col(\"MTA_tax\").alias(\"mta_tax\"),\n",
    "    col(\"Tip_amount\").alias(\"tip_amount\"),\n",
    "    col(\"Tolls_amount\").alias(\"tolls_amount\"),\n",
    "    col(\"Total_amount\").alias(\"total_amount\"),\n",
    "    col(\"congestion_surcharge\").alias(\"congestion_surcharge\"),\n",
    "    col(\"Airport_fee\").alias(\"airport_fee\")\n",
    ").withColumn(\"trip_id\", monotonically_increasing_id())"
   ]
  },
  {
   "cell_type": "code",
   "execution_count": 34,
   "id": "aa2bd478-b1f8-4ba2-bca1-f601b6557ff8",
   "metadata": {},
   "outputs": [
    {
     "name": "stdout",
     "output_type": "stream",
     "text": [
      "11946616\n",
      "+---------+------------+---------------+------------------+-------------------+-----------+---------------+-------------+-----------+-----+-------+----------+------------+------------+--------------------+-----------+-------+\n",
      "|vendor_id|rate_code_id|payment_type_id|pickup_location_id|dropoff_location_id|datetime_id|passenger_count|trip_distance|fare_amount|extra|mta_tax|tip_amount|tolls_amount|total_amount|congestion_surcharge|airport_fee|trip_id|\n",
      "+---------+------------+---------------+------------------+-------------------+-----------+---------------+-------------+-----------+-----+-------+----------+------------+------------+--------------------+-----------+-------+\n",
      "|        2|           2|              1|               132|                 13|     683418|              1|        28.19|       70.0|  0.0|    0.5|     16.54|        6.94|       99.23|                 2.5|       1.75|      0|\n",
      "|        2|           1|              1|                90|                231|      31863|              1|         2.05|       13.5|  1.0|    0.5|       3.7|         0.0|        22.2|                 2.5|        0.0|      1|\n",
      "|        2|           1|              1|               249|                143|      56405|              1|         4.42|       31.0|  1.0|    0.5|       9.0|         0.0|        45.0|                 2.5|        0.0|      2|\n",
      "|        2|           1|              2|               132|                177|      14534|              1|        10.01|       40.8|  1.0|    0.5|       0.0|         0.0|       45.05|                 0.0|       1.75|      3|\n",
      "|        2|           1|              1|               107|                 48|       8800|              2|         2.37|       14.2|  1.0|    0.5|      3.84|         0.0|       23.04|                 2.5|        0.0|      4|\n",
      "|        2|           1|              1|               211|                257|      51331|              1|         7.05|       33.1|  1.0|    0.5|     13.51|        6.94|       58.55|                 2.5|        0.0|      5|\n",
      "|        1|           1|              1|               100|                239|      61531|              1|          2.7|       16.3|  3.5|    0.5|       0.1|         0.0|        21.4|                 2.5|        0.0|      6|\n",
      "|        2|           1|              1|               249|                148|      51330|              6|         1.44|       14.2|  1.0|    0.5|      3.84|         0.0|       23.04|                 2.5|        0.0|      7|\n",
      "|        2|           1|              1|               230|                 68|      17892|              2|         1.17|        7.9|  1.0|    0.5|      2.58|         0.0|       15.48|                 2.5|        0.0|      8|\n",
      "|        2|           1|              1|               107|                140|          3|              1|         4.09|       28.2|  1.0|    0.5|       8.3|         0.0|        41.5|                 2.5|        0.0|      9|\n",
      "|        2|           1|              1|               229|                141|      17891|              1|         1.47|        9.3|  1.0|    0.5|      2.86|         0.0|       17.16|                 2.5|        0.0|     10|\n",
      "|        2|           1|              1|               144|                186|      36631|              1|         1.98|       12.8|  1.0|    0.5|      3.56|         0.0|       21.36|                 2.5|        0.0|     11|\n",
      "|        2|           1|              1|               142|                236|      61526|              2|         1.63|       10.7|  1.0|    0.5|      3.14|         0.0|       18.84|                 2.5|        0.0|     12|\n",
      "|        2|           1|              1|               234|                263|      36630|              1|         3.64|       19.8|  1.0|    0.5|      2.48|         0.0|       27.28|                 2.5|        0.0|     13|\n",
      "|        2|           1|              2|                88|                263|       4963|              1|         7.46|       31.0|  1.0|    0.5|       0.0|         0.0|        36.0|                 2.5|        0.0|     14|\n",
      "|        1|           1|              1|               162|                224|      13397|              1|          1.9|       10.0|  3.5|    0.5|       3.0|         0.0|        18.0|                 2.5|        0.0|     15|\n",
      "|        2|           1|              1|               113|                226|      41424|              1|          3.8|       24.7|  1.0|    0.5|      7.33|        6.94|       43.97|                 2.5|        0.0|     16|\n",
      "|        2|           1|              1|               132|                225|      51332|              1|        11.28|       47.1|  1.0|    0.5|       0.0|         0.0|       51.35|                 0.0|       1.75|     17|\n",
      "|        2|           1|              1|               237|                249|      27584|              1|         5.65|       27.5|  1.0|    0.5|       6.5|         0.0|        39.0|                 2.5|        0.0|     18|\n",
      "|        2|           1|              1|                68|                229|      41426|              4|         2.91|       15.6|  1.0|    0.5|      6.18|         0.0|       26.78|                 2.5|        0.0|     19|\n",
      "+---------+------------+---------------+------------------+-------------------+-----------+---------------+-------------+-----------+-----+-------+----------+------------+------------+--------------------+-----------+-------+\n",
      "only showing top 20 rows\n",
      "\n"
     ]
    }
   ],
   "source": [
    "print(fact_trips.count())\n",
    "fact_trips.show()"
   ]
  },
  {
   "cell_type": "markdown",
   "id": "754540a6-ec9c-4b7b-aff0-fcc0ee7d7aed",
   "metadata": {},
   "source": [
    "# Load data in datawarehouse"
   ]
  },
  {
   "cell_type": "code",
   "execution_count": 35,
   "id": "0f3cd888",
   "metadata": {},
   "outputs": [
    {
     "name": "stdout",
     "output_type": "stream",
     "text": [
      "Saved vendor_dim_coalesced csv file.\n",
      "Saved rate_code_dim_coalesced csv file.\n",
      "Saved payment_type_dim_coalesced csv file.\n",
      "Saved datetime_dim_coalesced csv file.\n",
      "Saved pickup_location_dim_coalesced csv file.\n",
      "Saved dropoff_location_dim_coalesced csv file.\n",
      "Saved fact_trips_coalesced csv file.\n"
     ]
    }
   ],
   "source": [
    "# Specify the output directory\n",
    "output_directory = \"../Processed_Files/4months/\"\n",
    "\n",
    "# Coalesce to a single partition\n",
    "vendor_dim_coalesced = vendor_dim.coalesce(1)\n",
    "# Save as a single CSV file\n",
    "vendor_dim_coalesced.write.csv(output_directory + \"vendor_dim_coalesced.csv\", header=True)\n",
    "print(\"Saved vendor_dim_coalesced csv file.\")\n",
    "\n",
    "# Coalesce to a single partition\n",
    "rate_code_dim_coalesced = rate_code_dim.coalesce(1)\n",
    "# Save as a single CSV file\n",
    "rate_code_dim_coalesced.write.csv(output_directory + \"rate_code_dim_coalesced.csv\", header=True)\n",
    "print(\"Saved rate_code_dim_coalesced csv file.\")\n",
    "\n",
    "# Coalesce to a single partition\n",
    "payment_type_dim_coalesced = payment_type_dim.coalesce(1)\n",
    "# Save as a single CSV file\n",
    "payment_type_dim_coalesced.write.csv(output_directory + \"payment_type_dim_coalesced.csv\", header=True)\n",
    "print(\"Saved payment_type_dim_coalesced csv file.\")\n",
    "\n",
    "# Coalesce to a single partition\n",
    "datetime_dim_coalesced = datetime_dim.coalesce(1)\n",
    "# Save as a single CSV file\n",
    "datetime_dim_coalesced.write.csv(output_directory + \"datetime_dim_coalesced.csv\", header=True)\n",
    "print(\"Saved datetime_dim_coalesced csv file.\")\n",
    "\n",
    "# Coalesce to a single partition\n",
    "pickup_location_dim_coalesced = pickup_location_dim.coalesce(1)\n",
    "# Save as a single CSV file\n",
    "pickup_location_dim_coalesced.write.csv(output_directory + \"pickup_location_dim_coalesced.csv\", header=True)\n",
    "print(\"Saved pickup_location_dim_coalesced csv file.\")\n",
    "\n",
    "# Coalesce to a single partition\n",
    "dropoff_location_dim_coalesced = dropoff_location_dim.coalesce(1)\n",
    "# Save as a single CSV file\n",
    "dropoff_location_dim_coalesced.write.csv(output_directory + \"dropoff_location_dim_coalesced.csv\", header=True)\n",
    "print(\"Saved dropoff_location_dim_coalesced csv file.\")\n",
    "\n",
    "# Coalesce to a single partition\n",
    "fact_trips_coalesced = fact_trips.coalesce(1)\n",
    "# Save as a single CSV file\n",
    "fact_trips_coalesced.write.csv(output_directory + \"fact_trips_coalesced.csv\", header=True)\n",
    "print(\"Saved fact_trips_coalesced csv file.\")"
   ]
  },
  {
   "cell_type": "code",
   "execution_count": 36,
   "id": "8d62adad",
   "metadata": {},
   "outputs": [],
   "source": [
    "# Create the analytical table\n",
    "analytical_table = fact_trips.join(vendor_dim, \"vendor_id\", \"left\") \\\n",
    "    .join(rate_code_dim, \"rate_code_id\", \"left\") \\\n",
    "    .join(payment_type_dim, \"payment_type_id\", \"left\") \\\n",
    "    .join(pickup_location_dim, \"pickup_location_id\", \"left\") \\\n",
    "    .join(dropoff_location_dim, \"dropoff_location_id\", \"left\") \\\n",
    "    .join(datetime_dim, \"datetime_id\", \"left\") \\\n",
    "    .select(\n",
    "        \"trip_id\",\n",
    "        \"vendor_id\",\n",
    "        \"vendor_name\",\n",
    "        \"rate_code_id\",\n",
    "        \"rate_code_description\",\n",
    "        \"payment_type_id\",\n",
    "        \"payment_type_description\",\n",
    "        \"pickup_location_id\",\n",
    "        \"pickup_borough\",\n",
    "        \"pickup_zone\",\n",
    "        \"pickup_service_zone\",\n",
    "        \"dropoff_location_id\",\n",
    "        \"dropoff_borough\",\n",
    "        \"dropoff_zone\",\n",
    "        \"dropoff_service_zone\",\n",
    "        \"datetime_id\",\n",
    "        \"pickup_datetime\",\n",
    "        \"dropoff_datetime\",\n",
    "        \"pick_hour\",\n",
    "        \"pick_day\",\n",
    "        \"pick_month\",\n",
    "        \"pick_year\",\n",
    "        \"pick_weekday\",\n",
    "        \"drop_hour\",\n",
    "        \"drop_day\",\n",
    "        \"drop_month\",\n",
    "        \"drop_year\",\n",
    "        \"drop_weekday\",\n",
    "        \"passenger_count\",\n",
    "        \"trip_distance\",\n",
    "        \"fare_amount\",\n",
    "        \"extra\",\n",
    "        \"mta_tax\",\n",
    "        \"tip_amount\",\n",
    "        \"tolls_amount\",\n",
    "        \"total_amount\",\n",
    "        \"congestion_surcharge\",\n",
    "        \"airport_fee\"\n",
    "    )"
   ]
  },
  {
   "cell_type": "code",
   "execution_count": 37,
   "id": "815dec6d",
   "metadata": {},
   "outputs": [
    {
     "name": "stdout",
     "output_type": "stream",
     "text": [
      "+-----------+---------+--------------------+------------+---------------------+---------------+------------------------+------------------+--------------+-------------+-------------------+-------------------+---------------+--------------------+--------------------+-----------+-------------------+-------------------+---------+--------+----------+---------+------------+---------+--------+----------+---------+------------+---------------+-------------+-----------+-----+-------+----------+------------+------------+--------------------+-----------+\n",
      "|    trip_id|vendor_id|         vendor_name|rate_code_id|rate_code_description|payment_type_id|payment_type_description|pickup_location_id|pickup_borough|  pickup_zone|pickup_service_zone|dropoff_location_id|dropoff_borough|        dropoff_zone|dropoff_service_zone|datetime_id|    pickup_datetime|   dropoff_datetime|pick_hour|pick_day|pick_month|pick_year|pick_weekday|drop_hour|drop_day|drop_month|drop_year|drop_weekday|passenger_count|trip_distance|fare_amount|extra|mta_tax|tip_amount|tolls_amount|total_amount|congestion_surcharge|airport_fee|\n",
      "+-----------+---------+--------------------+------------+---------------------+---------------+------------------------+------------------+--------------+-------------+-------------------+-------------------+---------------+--------------------+--------------------+-----------+-------------------+-------------------+---------+--------+----------+---------+------------+---------+--------+----------+---------+------------+---------------+-------------+-----------+-----+-------+----------+------------+------------+--------------------+-----------+\n",
      "|68719476748|        2|       VeriFone Inc.|           1|        Standard rate|              1|             Credit card|                48|     Manhattan| Clinton East|        Yellow Zone|                238|      Manhattan|Upper West Side N...|         Yellow Zone|68719533826|2023-11-01 00:40:58|2023-11-01 00:51:48|       00|      01|        11|     2023|         Wed|       00|      01|        11|     2023|         Wed|              2|         2.39|       13.5|  1.0|    0.5|      4.62|         0.0|       23.12|                 2.5|        0.0|\n",
      "|          4|        1|Creative Mobile T...|           1|        Standard rate|              1|             Credit card|                43|     Manhattan| Central Park|        Yellow Zone|                 75|      Manhattan|   East Harlem South|           Boro Zone|      77035|2023-11-01 00:30:10|2023-11-01 00:39:21|       00|      01|        11|     2023|         Wed|       00|      01|        11|     2023|         Wed|              1|          1.9|       12.8|  3.5|    0.5|       2.0|         0.0|        19.8|                 2.5|        0.0|\n",
      "|94489280522|        2|       VeriFone Inc.|           1|        Standard rate|              4|                 Dispute|                63|      Brooklyn|Cypress Hills|          Boro Zone|                 37|       Brooklyn|      Bushwick South|           Boro Zone|94489357684|2023-11-01 00:44:03|2023-11-01 00:58:43|       00|      01|        11|     2023|         Wed|       00|      01|        11|     2023|         Wed|              1|         4.06|      -19.8| -1.0|   -0.5|       0.0|         0.0|       -22.3|                 0.0|        0.0|\n",
      "|34359738387|        2|       VeriFone Inc.|           1|        Standard rate|              1|             Credit card|                68|     Manhattan| East Chelsea|        Yellow Zone|                148|      Manhattan|     Lower East Side|         Yellow Zone|34359810680|2023-11-01 02:31:54|2023-11-01 02:43:46|       02|      01|        11|     2023|         Wed|       02|      01|        11|     2023|         Wed|              1|         1.76|       12.1|  1.0|    0.5|       1.0|         0.0|        18.1|                 2.5|        0.0|\n",
      "|17179869191|        1|Creative Mobile T...|           1|        Standard rate|              1|             Credit card|                68|     Manhattan| East Chelsea|        Yellow Zone|                 90|      Manhattan|            Flatiron|         Yellow Zone|17179896786|2023-11-01 00:44:40|2023-11-01 00:50:57|       00|      01|        11|     2023|         Wed|       00|      01|        11|     2023|         Wed|              1|          0.9|        7.2|  3.5|    0.5|      2.45|         0.0|       14.65|                 2.5|        0.0|\n",
      "|60129542152|        2|       VeriFone Inc.|           1|        Standard rate|              1|             Credit card|                48|     Manhattan| Clinton East|        Yellow Zone|                 50|      Manhattan|        Clinton West|         Yellow Zone|60129588676|2023-11-01 00:25:26|2023-11-01 00:27:29|       00|      01|        11|     2023|         Wed|       00|      01|        11|     2023|         Wed|              1|         0.53|        4.4|  1.0|    0.5|      1.88|         0.0|       11.28|                 2.5|        0.0|\n",
      "|68719476754|        2|       VeriFone Inc.|           1|        Standard rate|              1|             Credit card|                48|     Manhattan| Clinton East|        Yellow Zone|                142|      Manhattan| Lincoln Square East|         Yellow Zone|68719494650|2023-11-01 01:11:36|2023-11-01 01:16:43|       01|      01|        11|     2023|         Wed|       01|      01|        11|     2023|         Wed|              1|         1.23|        7.9|  1.0|    0.5|      2.58|         0.0|       15.48|                 2.5|        0.0|\n",
      "|85899345927|        2|       VeriFone Inc.|           1|        Standard rate|              1|             Credit card|                48|     Manhattan| Clinton East|        Yellow Zone|                140|      Manhattan|     Lenox Hill East|         Yellow Zone|85899423119|2023-11-01 00:17:03|2023-11-01 00:32:21|       00|      01|        11|     2023|         Wed|       00|      01|        11|     2023|         Wed|              1|         3.03|       17.7|  1.0|    0.5|      4.54|         0.0|       27.24|                 2.5|        0.0|\n",
      "|77309411343|        1|Creative Mobile T...|           1|        Standard rate|              2|                    Cash|                43|     Manhattan| Central Park|        Yellow Zone|                142|      Manhattan| Lincoln Square East|         Yellow Zone|77309422762|2023-11-01 02:01:38|2023-11-01 02:05:10|       02|      01|        11|     2023|         Wed|       02|      01|        11|     2023|         Wed|              1|          1.0|        7.2|  3.5|    0.5|       0.0|         0.0|        12.2|                 2.5|        0.0|\n",
      "| 8589934597|        2|       VeriFone Inc.|           1|        Standard rate|              1|             Credit card|                45|     Manhattan|    Chinatown|        Yellow Zone|                151|      Manhattan|    Manhattan Valley|         Yellow Zone| 8590011801|2023-11-01 00:33:04|2023-11-01 01:01:25|       00|      01|        11|     2023|         Wed|       01|      01|        11|     2023|         Wed|              1|          7.4|       36.6|  1.0|    0.5|      8.32|         0.0|       49.92|                 2.5|        0.0|\n",
      "|17179869194|        2|       VeriFone Inc.|           1|        Standard rate|              1|             Credit card|                48|     Manhattan| Clinton East|        Yellow Zone|                 68|      Manhattan|        East Chelsea|         Yellow Zone|17179910767|2023-11-01 01:05:05|2023-11-01 01:13:44|       01|      01|        11|     2023|         Wed|       01|      01|        11|     2023|         Wed|              1|         2.11|       11.4|  1.0|    0.5|       3.0|         0.0|        19.4|                 2.5|        0.0|\n",
      "|94489280514|        2|       VeriFone Inc.|           1|        Standard rate|              2|                    Cash|                68|     Manhattan| East Chelsea|        Yellow Zone|                137|      Manhattan|            Kips Bay|         Yellow Zone|94489300843|2023-11-01 00:11:19|2023-11-01 00:21:50|       00|      01|        11|     2023|         Wed|       00|      01|        11|     2023|         Wed|              1|         2.12|       12.8|  1.0|    0.5|       0.0|         0.0|        17.8|                 2.5|        0.0|\n",
      "| 8589934601|        2|       VeriFone Inc.|           1|        Standard rate|              1|             Credit card|                48|     Manhattan| Clinton East|        Yellow Zone|                249|      Manhattan|        West Village|         Yellow Zone| 8589949949|2023-11-01 00:57:25|2023-11-01 01:14:37|       00|      01|        11|     2023|         Wed|       01|      01|        11|     2023|         Wed|              1|         3.74|       20.5|  1.0|    0.5|       5.1|         0.0|        30.6|                 2.5|        0.0|\n",
      "|34359738383|        2|       VeriFone Inc.|           1|        Standard rate|              1|             Credit card|                48|     Manhattan| Clinton East|        Yellow Zone|                137|      Manhattan|            Kips Bay|         Yellow Zone|34359770608|2023-11-01 01:34:34|2023-11-01 01:47:24|       01|      01|        11|     2023|         Wed|       01|      01|        11|     2023|         Wed|              1|         2.84|       15.6|  1.0|    0.5|      5.15|         0.0|       25.75|                 2.5|        0.0|\n",
      "|34359738374|        2|       VeriFone Inc.|           1|        Standard rate|              1|             Credit card|                68|     Manhattan| East Chelsea|        Yellow Zone|                 68|      Manhattan|        East Chelsea|         Yellow Zone|34359800324|2023-11-01 00:16:38|2023-11-01 00:20:25|       00|      01|        11|     2023|         Wed|       00|      01|        11|     2023|         Wed|              1|         0.95|        6.5|  1.0|    0.5|       2.3|         0.0|        13.8|                 2.5|        0.0|\n",
      "|94489280527|        2|       VeriFone Inc.|           5|      Negotiated fare|              1|             Credit card|                 4|     Manhattan|Alphabet City|        Yellow Zone|                  4|      Manhattan|       Alphabet City|         Yellow Zone|94489342439|2023-11-01 01:07:42|2023-11-01 01:07:52|       01|      01|        11|     2023|         Wed|       01|      01|        11|     2023|         Wed|              2|          0.0|       15.0|  0.0|    0.0|       3.7|         0.0|        22.2|                 2.5|        0.0|\n",
      "|42949672973|        2|       VeriFone Inc.|           1|        Standard rate|              2|                    Cash|                48|     Manhattan| Clinton East|        Yellow Zone|                163|      Manhattan|       Midtown North|         Yellow Zone|42949724535|2023-11-01 01:43:48|2023-11-01 01:49:26|       01|      01|        11|     2023|         Wed|       01|      01|        11|     2023|         Wed|              1|         1.16|        7.9|  1.0|    0.5|       0.0|         0.0|        12.9|                 2.5|        0.0|\n",
      "|42949672975|        1|Creative Mobile T...|           1|        Standard rate|              1|             Credit card|                48|     Manhattan| Clinton East|        Yellow Zone|                140|      Manhattan|     Lenox Hill East|         Yellow Zone|42949696604|2023-11-01 02:27:36|2023-11-01 02:40:28|       02|      01|        11|     2023|         Wed|       02|      01|        11|     2023|         Wed|              1|          2.6|       13.5|  3.5|    0.5|       3.7|         0.0|        22.2|                 2.5|        0.0|\n",
      "|42949672972|        2|       VeriFone Inc.|           1|        Standard rate|              1|             Credit card|                45|     Manhattan|    Chinatown|        Yellow Zone|                140|      Manhattan|     Lenox Hill East|         Yellow Zone|42949750062|2023-11-01 01:25:08|2023-11-01 01:40:51|       01|      01|        11|     2023|         Wed|       01|      01|        11|     2023|         Wed|              1|         5.09|       21.9|  1.0|    0.5|      5.38|         0.0|       32.28|                 2.5|        0.0|\n",
      "|51539607568|        2|       VeriFone Inc.|           1|        Standard rate|              1|             Credit card|                68|     Manhattan| East Chelsea|        Yellow Zone|                239|      Manhattan|Upper West Side S...|         Yellow Zone|51539607579|2023-11-01 01:06:16|2023-11-01 01:18:44|       01|      01|        11|     2023|         Wed|       01|      01|        11|     2023|         Wed|              1|          3.4|       17.7|  1.0|    0.5|       1.0|         0.0|        23.7|                 2.5|        0.0|\n",
      "+-----------+---------+--------------------+------------+---------------------+---------------+------------------------+------------------+--------------+-------------+-------------------+-------------------+---------------+--------------------+--------------------+-----------+-------------------+-------------------+---------+--------+----------+---------+------------+---------+--------+----------+---------+------------+---------------+-------------+-----------+-----+-------+----------+------------+------------+--------------------+-----------+\n",
      "only showing top 20 rows\n",
      "\n"
     ]
    }
   ],
   "source": [
    "analytical_table.show()"
   ]
  },
  {
   "cell_type": "code",
   "execution_count": 38,
   "id": "e0dc1c31",
   "metadata": {},
   "outputs": [
    {
     "name": "stdout",
     "output_type": "stream",
     "text": [
      "Saved analytical_table_coalesced csv file.\n"
     ]
    }
   ],
   "source": [
    "# Coalesce to a single partition\n",
    "analytical_table_coalesced = analytical_table.coalesce(1)\n",
    "# Save as a single CSV file\n",
    "analytical_table_coalesced.write.csv(output_directory + \"analytical_table_coalesced.csv\", header=True)\n",
    "print(\"Saved analytical_table_coalesced csv file.\")"
   ]
  },
  {
   "cell_type": "code",
   "execution_count": null,
   "id": "5af581d9",
   "metadata": {},
   "outputs": [],
   "source": []
  },
  {
   "cell_type": "code",
   "execution_count": 39,
   "id": "ec0e3df7-db8a-4afc-bdf9-8441dfc1c1e8",
   "metadata": {},
   "outputs": [],
   "source": [
    "spark.stop()"
   ]
  },
  {
   "cell_type": "code",
   "execution_count": null,
   "id": "4ba7cac7-d216-42b3-95c1-a8664b762588",
   "metadata": {},
   "outputs": [],
   "source": []
  }
 ],
 "metadata": {
  "kernelspec": {
   "display_name": "Python 3 (ipykernel)",
   "language": "python",
   "name": "python3"
  },
  "language_info": {
   "codemirror_mode": {
    "name": "ipython",
    "version": 3
   },
   "file_extension": ".py",
   "mimetype": "text/x-python",
   "name": "python",
   "nbconvert_exporter": "python",
   "pygments_lexer": "ipython3",
   "version": "3.9.19"
  }
 },
 "nbformat": 4,
 "nbformat_minor": 5
}
